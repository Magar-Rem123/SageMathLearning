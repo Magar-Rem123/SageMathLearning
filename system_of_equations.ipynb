{
 "cells": [
  {
   "cell_type": "markdown",
   "metadata": {
    "collapsed": false
   },
   "source": [
    "**Linear Algebra**\n",
    "\n",
    "**Solving System of Linear Equations**"
   ]
  },
  {
   "cell_type": "markdown",
   "metadata": {
    "collapsed": false
   },
   "source": [
    "**Example: Solve the system of linear equations**$$2x_1+3x_3-4x_3=-7\\\\-x_1+2x_2-x_3=1\\\\x_1+2x_2+3x_3=7$$"
   ]
  },
  {
   "cell_type": "code",
   "execution_count": 5,
   "metadata": {
    "collapsed": false
   },
   "outputs": [
    {
     "data": {
      "text/html": [
       "<html>\\[\\newcommand{\\Bold}[1]{\\mathbf{#1}}\\left[\\left[x_{1} = \\left(-1\\right), x_{2} = 1, x_{3} = 2\\right]\\right]\\]</html>"
      ],
      "text/latex": [
       "$$\\newcommand{\\Bold}[1]{\\mathbf{#1}}\\left[\\left[x_{1} = \\left(-1\\right), x_{2} = 1, x_{3} = 2\\right]\\right]$$"
      ],
      "text/plain": [
       "[[x_1 == -1, x_2 == 1, x_3 == 2]]"
      ]
     },
     "execution_count": 5,
     "metadata": {
     },
     "output_type": "execute_result"
    }
   ],
   "source": [
    "# Solving by using inbuilt function solve()\n",
    "var('x_1,x_2,x_3')\n",
    "system1 = [2*x_1+3*x_2-4*x_3==-7,-x_1+2*x_2-x_3==1,x_1+2*x_2+3*x_3==7]\n",
    "soln = solve(system1,x_1,x_2,x_3)\n",
    "show(soln)"
   ]
  },
  {
   "cell_type": "code",
   "execution_count": 6,
   "metadata": {
    "collapsed": false
   },
   "outputs": [
    {
     "data": {
      "text/html": [
       "<html>\\[\\newcommand{\\Bold}[1]{\\mathbf{#1}}\\left[\\left\\{x_{1} : -1, x_{2} : 1, x_{3} : 2\\right\\}\\right]\\]</html>"
      ],
      "text/latex": [
       "$$\\newcommand{\\Bold}[1]{\\mathbf{#1}}\\left[\\left\\{x_{1} : -1, x_{2} : 1, x_{3} : 2\\right\\}\\right]$$"
      ],
      "text/plain": [
       "[{x_1: -1, x_2: 1, x_3: 2}]"
      ]
     },
     "execution_count": 6,
     "metadata": {
     },
     "output_type": "execute_result"
    }
   ],
   "source": [
    "# See the solution in the dictionary form\n",
    "# Solving by using inbuilt function solve()\n",
    "var('x_1,x_2,x_3')\n",
    "system1 = [2*x_1+3*x_2-4*x_3==-7,-x_1+2*x_2-x_3==1,x_1+2*x_2+3*x_3==7]\n",
    "soln = solve(system1,x_1,x_2,x_3,solution_dict=True)\n",
    "show(soln)"
   ]
  },
  {
   "cell_type": "markdown",
   "metadata": {
    "collapsed": false
   },
   "source": [
    "**Soving by matrix Method**"
   ]
  },
  {
   "cell_type": "code",
   "execution_count": 7,
   "metadata": {
    "collapsed": false
   },
   "outputs": [
   ],
   "source": [
    "# First declare matrix and vector\n",
    "A = matrix([[2,3,-4],[-1,2,-1],[1,2,3]])\n",
    "b = vector([-7,1,7])"
   ]
  },
  {
   "cell_type": "code",
   "execution_count": 8,
   "metadata": {
    "collapsed": false
   },
   "outputs": [
    {
     "data": {
      "text/plain": [
       "(-1, 1, 2)"
      ]
     },
     "execution_count": 8,
     "metadata": {
     },
     "output_type": "execute_result"
    }
   ],
   "source": [
    "# soving different way\n",
    "A.solve_right(b)"
   ]
  },
  {
   "cell_type": "code",
   "execution_count": 10,
   "metadata": {
    "collapsed": false
   },
   "outputs": [
    {
     "data": {
      "text/plain": [
       "True"
      ]
     },
     "execution_count": 10,
     "metadata": {
     },
     "output_type": "execute_result"
    }
   ],
   "source": [
    "# Check the whethere our solution correct or not\n",
    "s = A.solve_right(b)\n",
    "# checing\n",
    "A*s == b"
   ]
  },
  {
   "cell_type": "markdown",
   "metadata": {
    "collapsed": false
   },
   "source": [
    "**Extracting Rows and columns of a matrix**"
   ]
  },
  {
   "cell_type": "code",
   "execution_count": 11,
   "metadata": {
    "collapsed": false
   },
   "outputs": [
    {
     "data": {
      "text/html": [
       "<html>\\[\\newcommand{\\Bold}[1]{\\mathbf{#1}}\\left(\\begin{array}{rrrr}\n",
       "-8 & 5 & 7 & 19 \\\\\n",
       "-2 & 9 & -8 & -2 \\\\\n",
       "18 & 18 & 15 & 8 \\\\\n",
       "1 & 12 & 9 & 11\n",
       "\\end{array}\\right)\\]</html>"
      ],
      "text/latex": [
       "$$\\newcommand{\\Bold}[1]{\\mathbf{#1}}\\left(\\begin{array}{rrrr}\n",
       "-8 & 5 & 7 & 19 \\\\\n",
       "-2 & 9 & -8 & -2 \\\\\n",
       "18 & 18 & 15 & 8 \\\\\n",
       "1 & 12 & 9 & 11\n",
       "\\end{array}\\right)$$"
      ],
      "text/plain": [
       "[-8  5  7 19]\n",
       "[-2  9 -8 -2]\n",
       "[18 18 15  8]\n",
       "[ 1 12  9 11]"
      ]
     },
     "execution_count": 11,
     "metadata": {
     },
     "output_type": "execute_result"
    }
   ],
   "source": [
    "# Create a random matrix\n",
    "A = random_matrix(ZZ,4,4,x=-10,y=20)\n",
    "show(A)"
   ]
  },
  {
   "cell_type": "code",
   "execution_count": 12,
   "metadata": {
    "collapsed": false
   },
   "outputs": [
    {
     "data": {
      "text/html": [
       "<html>\\[\\newcommand{\\Bold}[1]{\\mathbf{#1}}\\left[\\left(1,\\,0,\\,0,\\,0\\right), \\left(0,\\,1,\\,0,\\,0\\right), \\left(0,\\,0,\\,1,\\,0\\right), \\left(0,\\,0,\\,0,\\,1\\right)\\right]\\]</html>"
      ],
      "text/latex": [
       "$$\\newcommand{\\Bold}[1]{\\mathbf{#1}}\\left[\\left(1,\\,0,\\,0,\\,0\\right), \\left(0,\\,1,\\,0,\\,0\\right), \\left(0,\\,0,\\,1,\\,0\\right), \\left(0,\\,0,\\,0,\\,1\\right)\\right]$$"
      ],
      "text/plain": [
       "[(1, 0, 0, 0), (0, 1, 0, 0), (0, 0, 1, 0), (0, 0, 0, 1)]"
      ]
     },
     "execution_count": 12,
     "metadata": {
     },
     "output_type": "execute_result"
    }
   ],
   "source": [
    "# Extract the identity matrix\n",
    "I4 = identity_matrix(4)\n",
    "E = I4.columns()\n",
    "show(E)"
   ]
  },
  {
   "cell_type": "code",
   "execution_count": 13,
   "metadata": {
    "collapsed": false
   },
   "outputs": [
    {
     "data": {
      "text/plain": [
       "(-8, -2, 18, 1)"
      ]
     },
     "execution_count": 13,
     "metadata": {
     },
     "output_type": "execute_result"
    }
   ],
   "source": [
    "# Obtained the first coumn of A\n",
    "j = 0 # column number\n",
    "A*E[j]"
   ]
  },
  {
   "cell_type": "code",
   "execution_count": 14,
   "metadata": {
    "collapsed": false
   },
   "outputs": [
    {
     "data": {
      "text/plain": [
       "(19, -2, 8, 11)"
      ]
     },
     "execution_count": 14,
     "metadata": {
     },
     "output_type": "execute_result"
    }
   ],
   "source": [
    "# Extract the fourth column\n",
    "j = 3\n",
    "A*E[j]"
   ]
  },
  {
   "cell_type": "code",
   "execution_count": 15,
   "metadata": {
    "collapsed": false
   },
   "outputs": [
    {
     "data": {
      "text/plain": [
       "(-8, 5, 7, 19)"
      ]
     },
     "execution_count": 15,
     "metadata": {
     },
     "output_type": "execute_result"
    }
   ],
   "source": [
    "# Extracting the rows\n",
    "i = 0 # column number\n",
    "E[i]*A"
   ]
  },
  {
   "cell_type": "code",
   "execution_count": 16,
   "metadata": {
    "collapsed": false
   },
   "outputs": [
    {
     "data": {
      "text/plain": [
       "18"
      ]
     },
     "execution_count": 16,
     "metadata": {
     },
     "output_type": "execute_result"
    }
   ],
   "source": [
    "# Extacting the ith and jth element\n",
    "i,j=2,1\n",
    "E[i]*A*E[j] # ij-element of A\n"
   ]
  },
  {
   "cell_type": "code",
   "execution_count": 19,
   "metadata": {
    "collapsed": false
   },
   "outputs": [
    {
     "data": {
      "text/plain": [
       "[0 0 0 0]\n",
       "[0 0 0 0]\n",
       "[0 1 0 0]\n",
       "[0 0 0 0]"
      ]
     },
     "execution_count": 19,
     "metadata": {
     },
     "output_type": "execute_result"
    }
   ],
   "source": [
    "# Example\n",
    "i,j = 2,1\n",
    "column_matrix(E[i])*E[j].row() # e_i*(e_j)^T"
   ]
  },
  {
   "cell_type": "markdown",
   "metadata": {
    "collapsed": false
   },
   "source": [
    "#**Elementary Row Operations**"
   ]
  },
  {
   "cell_type": "markdown",
   "metadata": {
    "collapsed": false
   },
   "source": [
    "* Interchanging any two rows\n",
    "* Multiplying any row by a scalar\n",
    "* Adding any two row"
   ]
  },
  {
   "cell_type": "code",
   "execution_count": 20,
   "metadata": {
    "collapsed": false
   },
   "outputs": [
    {
     "data": {
      "text/html": [
       "<html>\\[\\newcommand{\\Bold}[1]{\\mathbf{#1}}\\left(\\begin{array}{rrrr}\n",
       "1 & 2 & 3 & 4 \\\\\n",
       "5 & 6 & 7 & 8 \\\\\n",
       "9 & 10 & 11 & 12 \\\\\n",
       "13 & 14 & 15 & 16\n",
       "\\end{array}\\right)\\]</html>"
      ],
      "text/latex": [
       "$$\\newcommand{\\Bold}[1]{\\mathbf{#1}}\\left(\\begin{array}{rrrr}\n",
       "1 & 2 & 3 & 4 \\\\\n",
       "5 & 6 & 7 & 8 \\\\\n",
       "9 & 10 & 11 & 12 \\\\\n",
       "13 & 14 & 15 & 16\n",
       "\\end{array}\\right)$$"
      ],
      "text/plain": [
       "[ 1  2  3  4]\n",
       "[ 5  6  7  8]\n",
       "[ 9 10 11 12]\n",
       "[13 14 15 16]"
      ]
     },
     "execution_count": 20,
     "metadata": {
     },
     "output_type": "execute_result"
    }
   ],
   "source": [
    "# Example\n",
    "A = matrix(4,4,[1..16])\n",
    "B = copy(A)\n",
    "show(B)"
   ]
  },
  {
   "cell_type": "markdown",
   "metadata": {
    "collapsed": false
   },
   "source": [
    "**Let us perform some elementary row operations**"
   ]
  },
  {
   "cell_type": "code",
   "execution_count": 22,
   "metadata": {
    "collapsed": false
   },
   "outputs": [
    {
     "data": {
      "text/html": [
       "<html>\\[\\newcommand{\\Bold}[1]{\\mathbf{#1}}\\left(\\begin{array}{rrrr}\n",
       "1 & 2 & 3 & 4 \\\\\n",
       "9 & 10 & 11 & 12 \\\\\n",
       "5 & 6 & 7 & 8 \\\\\n",
       "13 & 14 & 15 & 16\n",
       "\\end{array}\\right)\\]</html>"
      ],
      "text/latex": [
       "$$\\newcommand{\\Bold}[1]{\\mathbf{#1}}\\left(\\begin{array}{rrrr}\n",
       "1 & 2 & 3 & 4 \\\\\n",
       "9 & 10 & 11 & 12 \\\\\n",
       "5 & 6 & 7 & 8 \\\\\n",
       "13 & 14 & 15 & 16\n",
       "\\end{array}\\right)$$"
      ],
      "text/plain": [
       "[ 1  2  3  4]\n",
       "[ 9 10 11 12]\n",
       "[ 5  6  7  8]\n",
       "[13 14 15 16]"
      ]
     },
     "execution_count": 22,
     "metadata": {
     },
     "output_type": "execute_result"
    }
   ],
   "source": [
    "# swap the row\n",
    "B.swap_rows(1,2)\n",
    "show(B)"
   ]
  },
  {
   "cell_type": "code",
   "execution_count": 23,
   "metadata": {
    "collapsed": false
   },
   "outputs": [
    {
     "data": {
      "text/html": [
       "<html>\\[\\newcommand{\\Bold}[1]{\\mathbf{#1}}\\left(\\begin{array}{rrrr}\n",
       "1 & 2 & 3 & 4 \\\\\n",
       "90 & 100 & 110 & 120 \\\\\n",
       "5 & 6 & 7 & 8 \\\\\n",
       "13 & 14 & 15 & 16\n",
       "\\end{array}\\right)\\]</html>"
      ],
      "text/latex": [
       "$$\\newcommand{\\Bold}[1]{\\mathbf{#1}}\\left(\\begin{array}{rrrr}\n",
       "1 & 2 & 3 & 4 \\\\\n",
       "90 & 100 & 110 & 120 \\\\\n",
       "5 & 6 & 7 & 8 \\\\\n",
       "13 & 14 & 15 & 16\n",
       "\\end{array}\\right)$$"
      ],
      "text/plain": [
       "[  1   2   3   4]\n",
       "[ 90 100 110 120]\n",
       "[  5   6   7   8]\n",
       "[ 13  14  15  16]"
      ]
     },
     "execution_count": 23,
     "metadata": {
     },
     "output_type": "execute_result"
    }
   ],
   "source": [
    "# rescaling means second row is multiplied by 10\n",
    "B.rescale_row(1,10)\n",
    "show(B)"
   ]
  },
  {
   "cell_type": "code",
   "execution_count": 24,
   "metadata": {
    "collapsed": false
   },
   "outputs": [
    {
     "data": {
      "text/html": [
       "<html>\\[\\newcommand{\\Bold}[1]{\\mathbf{#1}}\\left(\\begin{array}{rrrr}\n",
       "1 & 2 & 3 & 4 \\\\\n",
       "140 & 160 & 180 & 200 \\\\\n",
       "5 & 6 & 7 & 8 \\\\\n",
       "13 & 14 & 15 & 16\n",
       "\\end{array}\\right)\\]</html>"
      ],
      "text/latex": [
       "$$\\newcommand{\\Bold}[1]{\\mathbf{#1}}\\left(\\begin{array}{rrrr}\n",
       "1 & 2 & 3 & 4 \\\\\n",
       "140 & 160 & 180 & 200 \\\\\n",
       "5 & 6 & 7 & 8 \\\\\n",
       "13 & 14 & 15 & 16\n",
       "\\end{array}\\right)$$"
      ],
      "text/plain": [
       "[  1   2   3   4]\n",
       "[140 160 180 200]\n",
       "[  5   6   7   8]\n",
       "[ 13  14  15  16]"
      ]
     },
     "execution_count": 24,
     "metadata": {
     },
     "output_type": "execute_result"
    }
   ],
   "source": [
    "# multiply row by some scalar and add another\n",
    "B.add_multiple_of_row(1,2,10)\n",
    "show(B)"
   ]
  },
  {
   "cell_type": "markdown",
   "metadata": {
    "collapsed": false
   },
   "source": [
    "**Echelon Matrix**"
   ]
  },
  {
   "cell_type": "code",
   "execution_count": 27,
   "metadata": {
    "collapsed": false
   },
   "outputs": [
    {
     "data": {
      "text/html": [
       "<html>\\[\\newcommand{\\Bold}[1]{\\mathbf{#1}}\\left(\\begin{array}{rrrr}\n",
       "1 & 2 & 3 & 4 \\\\\n",
       "4 & 3 & 2 & 1 \\\\\n",
       "6 & 7 & 8 & 9 \\\\\n",
       "9 & 8 & 7 & 6\n",
       "\\end{array}\\right)\\]</html>"
      ],
      "text/latex": [
       "$$\\newcommand{\\Bold}[1]{\\mathbf{#1}}\\left(\\begin{array}{rrrr}\n",
       "1 & 2 & 3 & 4 \\\\\n",
       "4 & 3 & 2 & 1 \\\\\n",
       "6 & 7 & 8 & 9 \\\\\n",
       "9 & 8 & 7 & 6\n",
       "\\end{array}\\right)$$"
      ],
      "text/plain": [
       "[1 2 3 4]\n",
       "[4 3 2 1]\n",
       "[6 7 8 9]\n",
       "[9 8 7 6]"
      ]
     },
     "execution_count": 27,
     "metadata": {
     },
     "output_type": "execute_result"
    }
   ],
   "source": [
    "# Example\n",
    "A = matrix(QQ,[[1,2,3,4],[4,3,2,1],[6,7,8,9],[9,8,7,6]])\n",
    "show(A)"
   ]
  },
  {
   "cell_type": "code",
   "execution_count": 29,
   "metadata": {
    "collapsed": false
   },
   "outputs": [
    {
     "data": {
      "text/html": [
       "<html>\\[\\newcommand{\\Bold}[1]{\\mathbf{#1}}\\left(\\begin{array}{rrrr}\n",
       "1 & 0 & -1 & -2 \\\\\n",
       "0 & 1 & 2 & 3 \\\\\n",
       "0 & 0 & 0 & 0 \\\\\n",
       "0 & 0 & 0 & 0\n",
       "\\end{array}\\right)\\]</html>"
      ],
      "text/latex": [
       "$$\\newcommand{\\Bold}[1]{\\mathbf{#1}}\\left(\\begin{array}{rrrr}\n",
       "1 & 0 & -1 & -2 \\\\\n",
       "0 & 1 & 2 & 3 \\\\\n",
       "0 & 0 & 0 & 0 \\\\\n",
       "0 & 0 & 0 & 0\n",
       "\\end{array}\\right)$$"
      ],
      "text/plain": [
       "[ 1  0 -1 -2]\n",
       "[ 0  1  2  3]\n",
       "[ 0  0  0  0]\n",
       "[ 0  0  0  0]"
      ]
     },
     "execution_count": 29,
     "metadata": {
     },
     "output_type": "execute_result"
    }
   ],
   "source": [
    "# Convert the matrix into echelon form\n",
    "A_ech=A.echelon_form()\n",
    "show(A_ech)"
   ]
  },
  {
   "cell_type": "code",
   "execution_count": 30,
   "metadata": {
    "collapsed": false
   },
   "outputs": [
    {
     "data": {
      "text/html": [
       "<html>\\[\\newcommand{\\Bold}[1]{\\mathbf{#1}}\\mathrm{None}\\]</html>"
      ],
      "text/latex": [
       "$$\\newcommand{\\Bold}[1]{\\mathbf{#1}}\\mathrm{None}$$"
      ],
      "text/plain": [
       "None"
      ]
     },
     "execution_count": 30,
     "metadata": {
     },
     "output_type": "execute_result"
    }
   ],
   "source": [
    "# Alsoe we can write\n",
    "A1 = A.echelonize()\n",
    "show(A1)"
   ]
  },
  {
   "cell_type": "code",
   "execution_count": 31,
   "metadata": {
    "collapsed": false
   },
   "outputs": [
    {
     "data": {
      "text/plain": [
       "[ 1  0 -1 -2]\n",
       "[ 0  1  2  3]\n",
       "[ 0  0  0  0]\n",
       "[ 0  0  0  0]"
      ]
     },
     "execution_count": 31,
     "metadata": {
     },
     "output_type": "execute_result"
    }
   ],
   "source": [
    "# Reduce row echelon form\n",
    "A.rref()"
   ]
  },
  {
   "cell_type": "markdown",
   "metadata": {
    "collapsed": false
   },
   "source": [
    "**solving system of linear equations using RREF**"
   ]
  },
  {
   "cell_type": "code",
   "execution_count": 32,
   "metadata": {
    "collapsed": false
   },
   "outputs": [
   ],
   "source": [
    "# Exmaple\n",
    "A = matrix([[1,1,2],[2,4,-3],[4,6,-5]])\n",
    "b = vector([9,1,1])"
   ]
  },
  {
   "cell_type": "code",
   "execution_count": 34,
   "metadata": {
    "collapsed": false
   },
   "outputs": [
    {
     "data": {
      "text/html": [
       "<html>\\[\\newcommand{\\Bold}[1]{\\mathbf{#1}}\\left(\\begin{array}{rrr|r}\n",
       "1 & 1 & 2 & 9 \\\\\n",
       "2 & 4 & -3 & 1 \\\\\n",
       "4 & 6 & -5 & 1\n",
       "\\end{array}\\right)\\]</html>"
      ],
      "text/latex": [
       "$$\\newcommand{\\Bold}[1]{\\mathbf{#1}}\\left(\\begin{array}{rrr|r}\n",
       "1 & 1 & 2 & 9 \\\\\n",
       "2 & 4 & -3 & 1 \\\\\n",
       "4 & 6 & -5 & 1\n",
       "\\end{array}\\right)$$"
      ],
      "text/plain": [
       "[ 1  1  2| 9]\n",
       "[ 2  4 -3| 1]\n",
       "[ 4  6 -5| 1]"
      ]
     },
     "execution_count": 34,
     "metadata": {
     },
     "output_type": "execute_result"
    }
   ],
   "source": [
    "# Change into augumented form\n",
    "Aug = A.augment(b,subdivide=True)\n",
    "show(Aug)"
   ]
  },
  {
   "cell_type": "code",
   "execution_count": 35,
   "metadata": {
    "collapsed": false
   },
   "outputs": [
    {
     "data": {
      "text/plain": [
       "[1 0 0|1]\n",
       "[0 1 0|2]\n",
       "[0 0 1|3]"
      ]
     },
     "execution_count": 35,
     "metadata": {
     },
     "output_type": "execute_result"
    }
   ],
   "source": [
    "# Applying rref() to the augumented matrix\n",
    "Aug.rref()"
   ]
  },
  {
   "cell_type": "markdown",
   "metadata": {
    "collapsed": false
   },
   "source": [
    "**Exmaple of no solution**"
   ]
  },
  {
   "cell_type": "code",
   "execution_count": 36,
   "metadata": {
    "collapsed": false
   },
   "outputs": [
    {
     "data": {
      "text/plain": [
       "[   1    0 11/2    0]\n",
       "[   0    1 -7/2    0]\n",
       "[   0    0    0    1]"
      ]
     },
     "execution_count": 36,
     "metadata": {
     },
     "output_type": "execute_result"
    }
   ],
   "source": [
    "# Example\n",
    "A = matrix([[1,1,2],[2,4,-3],[3,5,-1]])\n",
    "b = vector([9,1,3])\n",
    "aug = A.augment(b)\n",
    "aug.rref()"
   ]
  },
  {
   "cell_type": "markdown",
   "metadata": {
    "collapsed": false
   },
   "source": [
    "**Exmple for last all are zero**"
   ]
  },
  {
   "cell_type": "code",
   "execution_count": 37,
   "metadata": {
    "collapsed": false
   },
   "outputs": [
    {
     "data": {
      "text/html": [
       "<html>\\[\\newcommand{\\Bold}[1]{\\mathbf{#1}}\\left(\\begin{array}{rrr|r}\n",
       "1 & 0 & \\frac{11}{2} & \\frac{35}{2} \\\\\n",
       "0 & 1 & -\\frac{7}{2} & -\\frac{17}{2} \\\\\n",
       "0 & 0 & 0 & 0\n",
       "\\end{array}\\right)\\]</html>"
      ],
      "text/latex": [
       "$$\\newcommand{\\Bold}[1]{\\mathbf{#1}}\\left(\\begin{array}{rrr|r}\n",
       "1 & 0 & \\frac{11}{2} & \\frac{35}{2} \\\\\n",
       "0 & 1 & -\\frac{7}{2} & -\\frac{17}{2} \\\\\n",
       "0 & 0 & 0 & 0\n",
       "\\end{array}\\right)$$"
      ],
      "text/plain": [
       "[    1     0  11/2| 35/2]\n",
       "[    0     1  -7/2|-17/2]\n",
       "[    0     0     0|    0]"
      ]
     },
     "execution_count": 37,
     "metadata": {
     },
     "output_type": "execute_result"
    }
   ],
   "source": [
    "# Example\n",
    "A = matrix([[1,1,2],[2,4,-3],[3,5,-1]])\n",
    "b = vector([9,1,10])\n",
    "aug = A.augment(b,subdivide=True)\n",
    "sol = aug.rref()\n",
    "show(sol)"
   ]
  },
  {
   "cell_type": "markdown",
   "metadata": {
    "collapsed": false
   },
   "source": [
    "**Finding inverse using RREF**"
   ]
  },
  {
   "cell_type": "code",
   "execution_count": 1,
   "metadata": {
    "collapsed": false
   },
   "outputs": [
    {
     "data": {
      "text/html": [
       "<html>\\[\\newcommand{\\Bold}[1]{\\mathbf{#1}}\\left(\\begin{array}{rrr}\n",
       "1 & 1 & 2 \\\\\n",
       "2 & 4 & -3 \\\\\n",
       "4 & 6 & -5\n",
       "\\end{array}\\right)\\]</html>"
      ],
      "text/latex": [
       "$$\\newcommand{\\Bold}[1]{\\mathbf{#1}}\\left(\\begin{array}{rrr}\n",
       "1 & 1 & 2 \\\\\n",
       "2 & 4 & -3 \\\\\n",
       "4 & 6 & -5\n",
       "\\end{array}\\right)$$"
      ],
      "text/plain": [
       "[ 1  1  2]\n",
       "[ 2  4 -3]\n",
       "[ 4  6 -5]"
      ]
     },
     "execution_count": 1,
     "metadata": {
     },
     "output_type": "execute_result"
    }
   ],
   "source": [
    "# Example\n",
    "A = matrix([[1,1,2],[2,4,-3],[4,6,-5]])\n",
    "show(A)"
   ]
  },
  {
   "cell_type": "code",
   "execution_count": 2,
   "metadata": {
    "collapsed": false
   },
   "outputs": [
    {
     "data": {
      "text/html": [
       "<html>\\[\\newcommand{\\Bold}[1]{\\mathbf{#1}}\\left(\\begin{array}{rrr|rrr}\n",
       "1 & 0 & 0 & \\frac{1}{6} & -\\frac{17}{12} & \\frac{11}{12} \\\\\n",
       "0 & 1 & 0 & \\frac{1}{6} & \\frac{13}{12} & -\\frac{7}{12} \\\\\n",
       "0 & 0 & 1 & \\frac{1}{3} & \\frac{1}{6} & -\\frac{1}{6}\n",
       "\\end{array}\\right)\\]</html>"
      ],
      "text/latex": [
       "$$\\newcommand{\\Bold}[1]{\\mathbf{#1}}\\left(\\begin{array}{rrr|rrr}\n",
       "1 & 0 & 0 & \\frac{1}{6} & -\\frac{17}{12} & \\frac{11}{12} \\\\\n",
       "0 & 1 & 0 & \\frac{1}{6} & \\frac{13}{12} & -\\frac{7}{12} \\\\\n",
       "0 & 0 & 1 & \\frac{1}{3} & \\frac{1}{6} & -\\frac{1}{6}\n",
       "\\end{array}\\right)$$"
      ],
      "text/plain": [
       "[     1      0      0|   1/6 -17/12  11/12]\n",
       "[     0      1      0|   1/6  13/12  -7/12]\n",
       "[     0      0      1|   1/3    1/6   -1/6]"
      ]
     },
     "execution_count": 2,
     "metadata": {
     },
     "output_type": "execute_result"
    }
   ],
   "source": [
    "# First apply augment in identity matrix and applying rref()\n",
    "M = A.augment(identity_matrix(3),subdivide=True).rref()\n",
    "show(M)"
   ]
  },
  {
   "cell_type": "code",
   "execution_count": 3,
   "metadata": {
    "collapsed": false
   },
   "outputs": [
    {
     "data": {
      "text/html": [
       "<html>\\[\\newcommand{\\Bold}[1]{\\mathbf{#1}}\\left(\\begin{array}{rrr}\n",
       "\\frac{1}{6} & -\\frac{17}{12} & \\frac{11}{12} \\\\\n",
       "\\frac{1}{6} & \\frac{13}{12} & -\\frac{7}{12} \\\\\n",
       "\\frac{1}{3} & \\frac{1}{6} & -\\frac{1}{6}\n",
       "\\end{array}\\right)\\]</html>"
      ],
      "text/latex": [
       "$$\\newcommand{\\Bold}[1]{\\mathbf{#1}}\\left(\\begin{array}{rrr}\n",
       "\\frac{1}{6} & -\\frac{17}{12} & \\frac{11}{12} \\\\\n",
       "\\frac{1}{6} & \\frac{13}{12} & -\\frac{7}{12} \\\\\n",
       "\\frac{1}{3} & \\frac{1}{6} & -\\frac{1}{6}\n",
       "\\end{array}\\right)$$"
      ],
      "text/plain": [
       "[   1/6 -17/12  11/12]\n",
       "[   1/6  13/12  -7/12]\n",
       "[   1/3    1/6   -1/6]"
      ]
     },
     "execution_count": 3,
     "metadata": {
     },
     "output_type": "execute_result"
    }
   ],
   "source": [
    "# Extract last 3 rows and 3 columns\n",
    "A1 = M.submatrix(0,3)\n",
    "show(A1)"
   ]
  },
  {
   "cell_type": "code",
   "execution_count": 4,
   "metadata": {
    "collapsed": false
   },
   "outputs": [
    {
     "data": {
      "text/plain": [
       "[1 0 0]\n",
       "[0 1 0]\n",
       "[0 0 1]"
      ]
     },
     "execution_count": 4,
     "metadata": {
     },
     "output_type": "execute_result"
    }
   ],
   "source": [
    "# Chec the identity matrix\n",
    "A*A1"
   ]
  },
  {
   "cell_type": "code",
   "execution_count": 5,
   "metadata": {
    "collapsed": false
   },
   "outputs": [
    {
     "data": {
      "text/plain": [
       "[   1/6 -17/12  11/12]\n",
       "[   1/6  13/12  -7/12]\n",
       "[   1/3    1/6   -1/6]"
      ]
     },
     "execution_count": 5,
     "metadata": {
     },
     "output_type": "execute_result"
    }
   ],
   "source": [
    "# find inverse by using inverse() function\n",
    "A.inverse()"
   ]
  },
  {
   "cell_type": "markdown",
   "metadata": {
    "collapsed": false
   },
   "source": [
    "**meaning of solution**\n",
    "\n",
    "**equavialently** b is linear combination of column of A."
   ]
  },
  {
   "cell_type": "code",
   "execution_count": 0,
   "metadata": {
    "collapsed": false
   },
   "outputs": [
   ],
   "source": [
   ]
  }
 ],
 "metadata": {
  "kernelspec": {
   "display_name": "SageMath 9.5",
   "language": "sagemath",
   "metadata": {
    "cocalc": {
     "description": "Open-source mathematical software system",
     "priority": 10,
     "url": "https://www.sagemath.org/"
    }
   },
   "name": "sage-9.5",
   "resource_dir": "/ext/jupyter/kernels/sage-9.5"
  },
  "language_info": {
   "codemirror_mode": {
    "name": "ipython",
    "version": 3
   },
   "file_extension": ".py",
   "mimetype": "text/x-python",
   "name": "python",
   "nbconvert_exporter": "python",
   "pygments_lexer": "ipython3",
   "version": "3.9.9"
  }
 },
 "nbformat": 4,
 "nbformat_minor": 4
}