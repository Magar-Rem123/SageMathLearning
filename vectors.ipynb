{
 "cells": [
  {
   "cell_type": "markdown",
   "metadata": {
    "collapsed": false
   },
   "source": [
    "**Linear Algebra with SageMath**\n",
    "\n",
    "**Working with vectores**"
   ]
  },
  {
   "cell_type": "markdown",
   "metadata": {
    "collapsed": false
   },
   "source": [
    "**Defining vectors**"
   ]
  },
  {
   "cell_type": "code",
   "execution_count": 4,
   "metadata": {
    "collapsed": false
   },
   "outputs": [
    {
     "data": {
      "text/html": [
       "<html>\\[\\newcommand{\\Bold}[1]{\\mathbf{#1}}\\left(1,\\,2,\\,3\\right)\\]</html>"
      ],
      "text/latex": [
       "$$\\newcommand{\\Bold}[1]{\\mathbf{#1}}\\left(1,\\,2,\\,3\\right)$$"
      ],
      "text/plain": [
       "(1, 2, 3)"
      ]
     },
     "execution_count": 4,
     "metadata": {
     },
     "output_type": "execute_result"
    },
    {
     "name": "stdout",
     "output_type": "stream",
     "text": [
      "<class 'sage.modules.vector_integer_dense.Vector_integer_dense'>\n"
     ]
    }
   ],
   "source": [
    "# Define a vectors\n",
    "u = vector([1,2,3])\n",
    "show(u)\n",
    "print(type(u))"
   ]
  },
  {
   "cell_type": "code",
   "execution_count": 5,
   "metadata": {
    "collapsed": false
   },
   "outputs": [
   ],
   "source": [
    "# Vectors in different systems\n",
    "u1 = vector(ZZ,[1,-2,3]) # Vector over integer\n",
    "u2 = vector(QQ,[1,0,3]) # Vector over rational\n",
    "u3 = vector(RR,[1,3,-1]) # Vector  over reals\n",
    "u4 = vector(CC,[1,-2,2]) # Vector over complex number\n",
    "u5 = vector(GF(5),[-1,2,2]) # Vector over finite fields"
   ]
  },
  {
   "cell_type": "markdown",
   "metadata": {
    "collapsed": false
   },
   "source": [
    "**Some vector operations**"
   ]
  },
  {
   "cell_type": "code",
   "execution_count": 6,
   "metadata": {
    "collapsed": false
   },
   "outputs": [
   ],
   "source": [
    "# Define a vectors\n",
    "a = vector([1,2,-3])\n",
    "b = vector([1,-1,1])\n",
    "c = vector([2,1,-1])"
   ]
  },
  {
   "cell_type": "code",
   "execution_count": 7,
   "metadata": {
    "collapsed": false
   },
   "outputs": [
    {
     "data": {
      "text/html": "\n<iframe srcdoc=\"<!DOCTYPE html>\n<html>\n<head>\n<title></title>\n<meta charset=&quot;utf-8&quot;>\n<meta name=viewport content=&quot;width=device-width, user-scalable=no, minimum-scale=1.0, maximum-scale=1.0&quot;>\n<style>\n\n    body { margin: 0px; overflow: hidden; }\n\n    #menu-container { position: absolute; bottom: 30px; right: 40px; cursor: default; }\n\n    #menu-message { position: absolute; bottom: 0px; right: 0px; white-space: nowrap;\n                    display: none; background-color: #F5F5F5; padding: 10px; }\n\n    #menu-content { position: absolute; bottom: 0px; right: 0px;\n                    display: none; background-color: #F5F5F5; border-bottom: 1px solid black;\n                    border-right: 1px solid black; border-left: 1px solid black; }\n\n    #menu-content div { border-top: 1px solid black; padding: 10px; white-space: nowrap; }\n\n    #menu-content div:hover { background-color: #FEFEFE; }\n\n    .dark-theme #menu-container { color: white; }\n\n    .dark-theme #menu-message { background-color: #181818; }\n\n    .dark-theme #menu-content { background-color: #181818; border-color: white; }\n\n    .dark-theme #menu-content div { border-color: white; }\n\n    .dark-theme #menu-content div:hover { background-color: #303030; }\n\n</style>\n\n</head>\n\n<body>\n\n<script src=&quot;/nbextensions/threejs-sage/r122/three.min.js&quot;></script>\n<script>\n  if ( !window.THREE ) document.write(' \\\n<script src=&quot;https://cdn.jsdelivr.net/gh/sagemath/threejs-sage@r122/build/three.min.js&quot;><\\/script> \\\n            ');\n</script>\n        \n<script>\n\n    var options = {&quot;animate&quot;: false, &quot;animationControls&quot;: true, &quot;aspectRatio&quot;: [1.0, 1.0, 1.0], &quot;autoPlay&quot;: true, &quot;axes&quot;: false, &quot;axesLabels&quot;: false, &quot;axesLabelsStyle&quot;: null, &quot;decimals&quot;: 2, &quot;delay&quot;: 20, &quot;frame&quot;: false, &quot;loop&quot;: true, &quot;projection&quot;: &quot;perspective&quot;, &quot;theme&quot;: &quot;light&quot;, &quot;viewpoint&quot;: false};\n    var animate = options.animate;\n\n    if ( options.theme === 'dark' )\n        document.body.className = 'dark-theme';\n\n    var scene = new THREE.Scene();\n\n    var renderer = new THREE.WebGLRenderer( { antialias: true, preserveDrawingBuffer: true } );\n    renderer.setPixelRatio( window.devicePixelRatio );\n    renderer.setSize( window.innerWidth, window.innerHeight );\n    renderer.setClearColor( options.theme === 'dark' ? 0 : 0xffffff, 1 );\n    document.body.appendChild( renderer.domElement );\n\n    var b = [{&quot;x&quot;:0.0, &quot;y&quot;:-1.0, &quot;z&quot;:-3.0}, {&quot;x&quot;:2.0, &quot;y&quot;:2.0, &quot;z&quot;:1.0}]; // bounds\n\n    if ( b[0].x === b[1].x ) {\n        b[0].x -= 1;\n        b[1].x += 1;\n    }\n    if ( b[0].y === b[1].y ) {\n        b[0].y -= 1;\n        b[1].y += 1;\n    }\n    if ( b[0].z === b[1].z ) {\n        b[0].z -= 1;\n        b[1].z += 1;\n    }\n\n    var rRange = Math.sqrt( Math.pow( b[1].x - b[0].x, 2 )\n                            + Math.pow( b[1].y - b[0].y, 2 ) );\n    var xRange = b[1].x - b[0].x;\n    var yRange = b[1].y - b[0].y;\n    var zRange = b[1].z - b[0].z;\n\n    var ar = options.aspectRatio;\n    var a = [ ar[0], ar[1], ar[2] ]; // aspect multipliers\n    var autoAspect = 2.5;\n    if ( zRange > autoAspect * rRange && a[2] === 1 ) a[2] = autoAspect * rRange / zRange;\n\n    // Distance from (xMid,yMid,zMid) to any corner of the bounding box, after applying aspectRatio\n    var midToCorner = Math.sqrt( a[0]*a[0]*xRange*xRange + a[1]*a[1]*yRange*yRange + a[2]*a[2]*zRange*zRange ) / 2;\n\n    var xMid = ( b[0].x + b[1].x ) / 2;\n    var yMid = ( b[0].y + b[1].y ) / 2;\n    var zMid = ( b[0].z + b[1].z ) / 2;\n\n    var box = new THREE.Geometry();\n    box.vertices.push( new THREE.Vector3( a[0]*b[0].x, a[1]*b[0].y, a[2]*b[0].z ) );\n    box.vertices.push( new THREE.Vector3( a[0]*b[1].x, a[1]*b[1].y, a[2]*b[1].z ) );\n    var boxMesh = new THREE.Line( box );\n    var boxColor = options.theme === 'dark' ? 'white' : 'black';\n    if ( options.frame ) scene.add( new THREE.BoxHelper( boxMesh, boxColor ) );\n\n    if ( options.axesLabels ) {\n\n        var d = options.decimals; // decimals\n        var offsetRatio = 0.1;\n        var al = options.axesLabels;\n        var als = options.axesLabelsStyle || [{}, {}, {}];\n\n        var offset = offsetRatio * a[1]*( b[1].y - b[0].y );\n        var xm = xMid.toFixed(d);\n        if ( /^-0.?0*$/.test(xm) ) xm = xm.substr(1);\n        addLabel( al[0] + '=' + xm, a[0]*xMid, a[1]*b[1].y+offset, a[2]*b[0].z, als[0] );\n        addLabel( ( b[0].x ).toFixed(d), a[0]*b[0].x, a[1]*b[1].y+offset, a[2]*b[0].z, als[0] );\n        addLabel( ( b[1].x ).toFixed(d), a[0]*b[1].x, a[1]*b[1].y+offset, a[2]*b[0].z, als[0] );\n\n        var offset = offsetRatio * a[0]*( b[1].x - b[0].x );\n        var ym = yMid.toFixed(d);\n        if ( /^-0.?0*$/.test(ym) ) ym = ym.substr(1);\n        addLabel( al[1] + '=' + ym, a[0]*b[1].x+offset, a[1]*yMid, a[2]*b[0].z, als[1] );\n        addLabel( ( b[0].y ).toFixed(d), a[0]*b[1].x+offset, a[1]*b[0].y, a[2]*b[0].z, als[1] );\n        addLabel( ( b[1].y ).toFixed(d), a[0]*b[1].x+offset, a[1]*b[1].y, a[2]*b[0].z, als[1] );\n\n        var offset = offsetRatio * a[1]*( b[1].y - b[0].y );\n        var zm = zMid.toFixed(d);\n        if ( /^-0.?0*$/.test(zm) ) zm = zm.substr(1);\n        addLabel( al[2] + '=' + zm, a[0]*b[1].x, a[1]*b[0].y-offset, a[2]*zMid, als[2] );\n        addLabel( ( b[0].z ).toFixed(d), a[0]*b[1].x, a[1]*b[0].y-offset, a[2]*b[0].z, als[2] );\n        addLabel( ( b[1].z ).toFixed(d), a[0]*b[1].x, a[1]*b[0].y-offset, a[2]*b[1].z, als[2] );\n\n    }\n\n    function addLabel( text, x, y, z, style ) {\n\n        var color = style.color || 'black';\n        var fontSize = style.fontSize || 14;\n        var fontFamily = style.fontFamily || 'monospace';\n        var fontStyle = style.fontStyle || 'normal';\n        var fontWeight = style.fontWeight || 'normal';\n        var opacity = style.opacity || 1;\n\n        if ( options.theme === 'dark' )\n            if ( color === 'black' || color === '#000000' )\n                color = 'white';\n\n        if ( Array.isArray( fontStyle ) ) {\n            fontFamily = fontFamily.map( function( f ) {\n                // Need to put quotes around fonts that have whitespace in their names.\n                return /\\s/.test( f ) ? '&quot;' + f + '&quot;' : f;\n            }).join(', ');\n        }\n\n        var canvas = document.createElement( 'canvas' );\n        var context = canvas.getContext( '2d' );\n        var pixelRatio = Math.round( window.devicePixelRatio );\n\n        // For example: italic bold 20px &quot;Times New Roman&quot;, Georgia, serif\n        var font = [fontStyle, fontWeight, fontSize + 'px', fontFamily].join(' ');\n\n        context.font = font;\n        var width = context.measureText( text ).width;\n        var height = fontSize;\n\n        // The dimensions of the canvas's underlying image data need to be powers\n        // of two in order for the resulting texture to support mipmapping.\n        canvas.width = THREE.MathUtils.ceilPowerOfTwo( width * pixelRatio );\n        canvas.height = THREE.MathUtils.ceilPowerOfTwo( height * pixelRatio );\n\n        // Re-compute the unscaled dimensions after the power of two conversion.\n        width = canvas.width / pixelRatio;\n        height = canvas.height / pixelRatio;\n\n        canvas.style.width = width + 'px';\n        canvas.style.height = height + 'px';\n\n        context.scale( pixelRatio, pixelRatio );\n        context.fillStyle = color;\n        context.font = font; // Must be set again after measureText.\n        context.textAlign = 'center';\n        context.textBaseline = 'middle';\n        context.fillText( text, width/2, height/2 );\n\n        var texture = new THREE.Texture( canvas );\n        texture.needsUpdate = true;\n\n        var materialOptions = { map: texture, sizeAttenuation: false, depthWrite: false };\n        if ( opacity < 1 ) {\n            // Setting opacity=1 would cause the texture's alpha component to be\n            // discarded, giving the text a black background instead of the\n            // background being transparent.\n            materialOptions.opacity = opacity;\n        }\n        var sprite = new THREE.Sprite( new THREE.SpriteMaterial( materialOptions ) );\n        sprite.position.set( x, y, z );\n\n        // Scaling factor, chosen somewhat arbitrarily so that the size of the text\n        // is consistent with previously generated plots.\n        var scale = 1/625;\n        if ( options.projection === 'orthographic' ) {\n            scale = midToCorner/256; // Needs to scale along with the plot itself.\n        }\n        sprite.scale.set( scale * width, scale * height, 1 );\n\n        scene.add( sprite );\n\n        return sprite;\n\n    }\n\n    if ( options.axes ) scene.add( new THREE.AxesHelper( Math.min( a[0]*b[1].x, a[1]*b[1].y, a[2]*b[1].z ) ) );\n\n    var camera = createCamera();\n    camera.up.set( 0, 0, 1 );\n    camera.position.set( a[0]*xMid, a[1]*yMid, a[2]*zMid );\n\n    var offset = new THREE.Vector3( a[0]*xRange, a[1]*yRange, a[2]*zRange );\n\n    if ( options.viewpoint ) {\n\n        var aa = options.viewpoint;\n        var axis = new THREE.Vector3( aa[0][0], aa[0][1], aa[0][2] ).normalize();\n        var angle = aa[1] * Math.PI / 180;\n        var q = new THREE.Quaternion().setFromAxisAngle( axis, angle ).inverse();\n\n        offset.set( 0, 0, offset.length() );\n        offset.applyQuaternion( q );\n\n    }\n\n    camera.position.add( offset );\n\n    function createCamera() {\n\n        var aspect = window.innerWidth / window.innerHeight;\n\n        // Scale the near and far clipping planes along with the overall plot size.\n        var nearClip = 0.01 * midToCorner;\n        var farClip = 100 * midToCorner;\n\n        if ( options.projection === 'orthographic' ) {\n            var camera = new THREE.OrthographicCamera( -1, 1, 1, -1, -farClip, farClip );\n            updateCameraAspect( camera, aspect );\n            return camera;\n        }\n\n        return new THREE.PerspectiveCamera( 45, aspect, nearClip, farClip );\n\n    }\n\n    function updateCameraAspect( camera, aspect ) {\n\n        if ( camera.isPerspectiveCamera ) {\n            camera.aspect = aspect;\n        } else if ( camera.isOrthographicCamera ) {\n            // Fit the camera frustum to the bounding box's diagonal so that the entire plot fits\n            // within at the default zoom level and camera position.\n            if ( aspect > 1 ) { // Wide window\n                camera.top = midToCorner;\n                camera.right = midToCorner * aspect;\n            } else { // Tall or square window\n                camera.top = midToCorner / aspect;\n                camera.right = midToCorner;\n            }\n            camera.bottom = -camera.top;\n            camera.left = -camera.right;\n        }\n\n        camera.updateProjectionMatrix();\n\n    }\n\n    var lights = [{&quot;x&quot;:-5, &quot;y&quot;:3, &quot;z&quot;:0, &quot;color&quot;:&quot;#7f7f7f&quot;, &quot;parent&quot;:&quot;camera&quot;}];\n    for ( var i=0 ; i < lights.length ; i++ ) {\n        var light = new THREE.DirectionalLight( lights[i].color, 1 );\n        light.position.set( a[0]*lights[i].x, a[1]*lights[i].y, a[2]*lights[i].z );\n        if ( lights[i].parent === 'camera' ) {\n            light.target.position.set( a[0]*xMid, a[1]*yMid, a[2]*zMid );\n            scene.add( light.target );\n            camera.add( light );\n        } else scene.add( light );\n    }\n    scene.add( camera );\n\n    var ambient = {&quot;color&quot;:&quot;#7f7f7f&quot;};\n    scene.add( new THREE.AmbientLight( ambient.color, 1 ) );\n\n    var controls = new THREE.OrbitControls( camera, renderer.domElement );\n    controls.target.set( a[0]*xMid, a[1]*yMid, a[2]*zMid );\n    controls.addEventListener( 'change', function() { if ( !animate ) render(); } );\n\n    window.addEventListener( 'resize', function() {\n\n        renderer.setSize( window.innerWidth, window.innerHeight );\n        updateCameraAspect( camera, window.innerWidth / window.innerHeight );\n        if ( window.rescaleFatLines ) rescaleFatLines();\n        if ( !animate ) render();\n\n    } );\n\n    var texts = [];\n    for ( var i=0 ; i < texts.length ; i++ ) addText( texts[i] );\n\n    function addText( json ) {\n        var sprite = addLabel( json.text, a[0]*json.x, a[1]*json.y, a[2]*json.z, json );\n        sprite.userData = json;\n    }\n\n    var points = [];\n    for ( var i=0 ; i < points.length ; i++ ) addPoint( points[i] );\n\n    function addPoint( json ) {\n\n        var geometry = new THREE.Geometry();\n        var v = json.point;\n        geometry.vertices.push( new THREE.Vector3( a[0]*v[0], a[1]*v[1], a[2]*v[2] ) );\n\n        var canvas = document.createElement( 'canvas' );\n        canvas.width = 128;\n        canvas.height = 128;\n\n        var context = canvas.getContext( '2d' );\n        context.arc( 64, 64, 64, 0, 2 * Math.PI );\n        context.fillStyle = json.color;\n        context.fill();\n\n        var texture = new THREE.Texture( canvas );\n        texture.needsUpdate = true;\n\n        var transparent = json.opacity < 1 ? true : false;\n        var size = camera.isOrthographicCamera ? json.size : json.size/100;\n        var material = new THREE.PointsMaterial( { size: size, map: texture,\n                                                   transparent: transparent, opacity: json.opacity,\n                                                   alphaTest: .1 } );\n\n        var c = new THREE.Vector3();\n        geometry.computeBoundingBox();\n        geometry.boundingBox.getCenter( c );\n        geometry.translate( -c.x, -c.y, -c.z );\n\n        var mesh = new THREE.Points( geometry, material );\n        mesh.position.set( c.x, c.y, c.z );\n        mesh.userData = json;\n        scene.add( mesh );\n\n    }\n\n    var lines = [];\n    for ( var i=0 ; i < lines.length ; i++ ) addLine( lines[i] );\n\n    function addLine( json ) {\n\n        var geometry = new THREE.Geometry();\n        for ( var i=0 ; i < json.points.length ; i++ ) {\n            var v = json.points[i];\n            geometry.vertices.push( new THREE.Vector3( a[0]*v[0], a[1]*v[1], a[2]*v[2] ) );\n        }\n\n        var c = new THREE.Vector3();\n        geometry.computeBoundingBox();\n        geometry.boundingBox.getCenter( c );\n        geometry.translate( -c.x, -c.y, -c.z );\n\n        var transparent = json.opacity < 1 ? true : false;\n        var materialOptions = { color: json.color, linewidth: json.linewidth,\n                                transparent: transparent, opacity: json.opacity };\n\n        var mesh;\n        if ( json.linewidth > 1 && window.createFatLineStrip ) {\n            mesh = createFatLineStrip( geometry, materialOptions );\n        } else {\n            var material = new THREE.LineBasicMaterial( materialOptions );\n            mesh = new THREE.Line( geometry, material );\n        }\n\n        mesh.position.set( c.x, c.y, c.z );\n        mesh.userData = json;\n        scene.add( mesh );\n\n    }\n\n    var surfaces = [{&quot;vertices&quot;: [{&quot;x&quot;: 0.9759464882278817, &quot;y&quot;: 1.9518929764557633, &quot;z&quot;: -2.9278394646836454}, {&quot;x&quot;: 0.9798027299184351, &quot;y&quot;: 1.9436744994547166, &quot;z&quot;: -2.932033035454159}, {&quot;x&quot;: 0.9687393533249326, &quot;y&quot;: 1.947478706649865, &quot;z&quot;: -2.933184689521894}, {&quot;x&quot;: 0.9855369115644271, &quot;y&quot;: 1.9512279481392554, &quot;z&quot;: -2.925086009115802}, {&quot;x&quot;: 0.9780174541258135, &quot;y&quot;: 1.959700443353727, &quot;z&quot;: -2.9219441647856925}, {&quot;x&quot;: 0.9676359922058, &quot;y&quot;: 1.9573832846812524, &quot;z&quot;: -2.92694942454068}, {&quot;x&quot;: 0.003856241690553442, &quot;y&quot;: -0.008218477001046715, &quot;z&quot;: -0.004193570770513328}, {&quot;x&quot;: -0.007207134902949093, &quot;y&quot;: -0.004414269805898186, &quot;z&quot;: -0.005345224838248487}, {&quot;x&quot;: 0.009590423336545474, &quot;y&quot;: -0.0006650283165079893, &quot;z&quot;: 0.002753455567843164}, {&quot;x&quot;: 0.002070965897931834, &quot;y&quot;: 0.007807466897963654, &quot;z&quot;: 0.005895299897953046}, {&quot;x&quot;: -0.008310496022081655, &quot;y&quot;: 0.005490308225489236, &quot;z&quot;: 0.000890040142965605}, {&quot;x&quot;: 0.0, &quot;y&quot;: 0.0, &quot;z&quot;: 0.0}], &quot;faces&quot;: [[0, 1, 2], [0, 3, 1], [0, 4, 3], [0, 5, 4], [0, 2, 5], [2, 1, 6, 7], [1, 3, 8, 6], [3, 4, 9, 8], [4, 5, 10, 9], [5, 2, 7, 10], [7, 6, 11], [6, 8, 11], [8, 9, 11], [9, 10, 11], [10, 7, 11]], &quot;color&quot;: &quot;#ff0000&quot;, &quot;opacity&quot;: 1.0}, {&quot;vertices&quot;: [{&quot;x&quot;: 0.9999999999999999, &quot;y&quot;: 1.9999999999999998, &quot;z&quot;: -3.0}, {&quot;x&quot;: 0.987515213299542, &quot;y&quot;: 1.9272375454526232, &quot;z&quot;: -2.940420176995185}, {&quot;x&quot;: 0.9543250835190343, &quot;y&quot;: 1.9386501670380687, &quot;z&quot;: -2.943875139198391}, {&quot;x&quot;: 1.004717758237518, &quot;y&quot;: 1.9498978915062393, &quot;z&quot;: -2.9195790979801157}, {&quot;x&quot;: 0.9821593859216772, &quot;y&quot;: 1.9753153771496543, &quot;z&quot;: -2.9101535649897863}, {&quot;x&quot;: 0.9510150001616366, &quot;y&quot;: 1.968363901132231, &quot;z&quot;: -2.9251693442547486}, {&quot;x&quot;: 0.9759464882278817, &quot;y&quot;: 1.9518929764557633, &quot;z&quot;: -2.9278394646836454}], &quot;faces&quot;: [[0, 1, 2], [0, 3, 1], [0, 4, 3], [0, 5, 4], [0, 2, 5], [2, 1, 6], [1, 3, 6], [3, 4, 6], [4, 5, 6], [5, 2, 6]], &quot;color&quot;: &quot;#ff0000&quot;, &quot;opacity&quot;: 1.0}, {&quot;vertices&quot;: [{&quot;x&quot;: 0.9480384757729335, &quot;y&quot;: -0.9480384757729335, &quot;z&quot;: 0.9480384757729337}, {&quot;x&quot;: 0.9561922517803391, &quot;y&quot;: -0.943591516673638, &quot;z&quot;: 0.9443316588648235}, {&quot;x&quot;: 0.9501517244269854, &quot;y&quot;: -0.9401517244269855, &quot;z&quot;: 0.9538119784648299}, {&quot;x&quot;: 0.9509645378281117, &quot;y&quot;: -0.9531768552489365, &quot;z&quot;: 0.9399740342417525}, {&quot;x&quot;: 0.9416931055688195, &quot;y&quot;: -0.9556611280354936, &quot;z&quot;: 0.9467611937144876}, {&quot;x&quot;: 0.941190759260412, &quot;y&quot;: -0.9476111544796141, &quot;z&quot;: 0.9553135135787747}, {&quot;x&quot;: 0.008153776007405553, &quot;y&quot;: 0.004446959099295457, &quot;z&quot;: -0.003706816908110096}, {&quot;x&quot;: 0.0021132486540518707, &quot;y&quot;: 0.007886751345948129, &quot;z&quot;: 0.005773502691896257}, {&quot;x&quot;: 0.0029260620551781764, &quot;y&quot;: -0.005138379476002918, &quot;z&quot;: -0.008064441531181092}, {&quot;x&quot;: -0.006345370204114071, &quot;y&quot;: -0.007622652262560136, &quot;z&quot;: -0.0012772820584460646}, {&quot;x&quot;: -0.00684771651252153, &quot;y&quot;: 0.0004273212933194664, &quot;z&quot;: 0.0072750378058409945}, {&quot;x&quot;: 0.0, &quot;y&quot;: 0.0, &quot;z&quot;: 0.0}], &quot;faces&quot;: [[0, 1, 2], [0, 3, 1], [0, 4, 3], [0, 5, 4], [0, 2, 5], [2, 1, 6, 7], [1, 3, 8, 6], [3, 4, 9, 8], [4, 5, 10, 9], [5, 2, 7, 10], [7, 6, 11], [6, 8, 11], [8, 9, 11], [9, 10, 11], [10, 7, 11]], &quot;color&quot;: &quot;#008000&quot;, &quot;opacity&quot;: 1.0}, {&quot;vertices&quot;: [{&quot;x&quot;: 0.9999999999999999, &quot;y&quot;: -0.9999999999999999, &quot;z&quot;: 1.0}, {&quot;x&quot;: 0.9724998037951502, &quot;y&quot;: -0.9346975984750472, &quot;z&quot;: 0.9369180250486033}, {&quot;x&quot;: 0.9543782217350891, &quot;y&quot;: -0.9243782217350891, &quot;z&quot;: 0.9653589838486224}, {&quot;x&quot;: 0.956816661938468, &quot;y&quot;: -0.9634536142009423, &quot;z&quot;: 0.9238451511793904}, {&quot;x&quot;: 0.9290023651605913, &quot;y&quot;: -0.9709064325606139, &quot;z&quot;: 0.9442066295975955}, {&quot;x&quot;: 0.9274953262353689, &quot;y&quot;: -0.9467565118929752, &quot;z&quot;: 0.9698635891904567}, {&quot;x&quot;: 0.9480384757729335, &quot;y&quot;: -0.9480384757729335, &quot;z&quot;: 0.9480384757729337}], &quot;faces&quot;: [[0, 1, 2], [0, 3, 1], [0, 4, 3], [0, 5, 4], [0, 2, 5], [2, 1, 6], [1, 3, 6], [3, 4, 6], [4, 5, 6], [5, 2, 6]], &quot;color&quot;: &quot;#008000&quot;, &quot;opacity&quot;: 1.0}, {&quot;vertices&quot;: [{&quot;x&quot;: 1.9265153077165043, &quot;y&quot;: 0.9632576538582521, &quot;z&quot;: -0.9632576538582525}, {&quot;x&quot;: 1.9235705925575872, &quot;y&quot;: 0.9601201836410673, &quot;z&quot;: -0.9722845543932712}, {&quot;x&quot;: 1.9208823145546488, &quot;y&quot;: 0.9704411572773244, &quot;z&quot;: -0.9673401367628911}, {&quot;x&quot;: 1.930328366822962, &quot;y&quot;: 0.9541350872062692, &quot;z&quot;: -0.9647541022973201}, {&quot;x&quot;: 1.9318166230043243, &quot;y&quot;: 0.9607570678198751, &quot;z&quot;: -0.9551556093209892}, {&quot;x&quot;: 1.925978641642999, &quot;y&quot;: 0.9708347733467246, &quot;z&quot;: -0.9567538665167907}, {&quot;x&quot;: -0.002944715158917005, &quot;y&quot;: -0.003137470217184796, &quot;z&quot;: -0.009026900535018804}, {&quot;x&quot;: -0.005632993161855452, &quot;y&quot;: 0.0071835034190722725, &quot;z&quot;: -0.00408248290463863}, {&quot;x&quot;: 0.0038130591064576944, &quot;y&quot;: -0.00912256665198299, &quot;z&quot;: -0.0014964484390676026}, {&quot;x&quot;: 0.005301315287820164, &quot;y&quot;: -0.0025005860383770268, &quot;z&quot;: 0.008102044537263299}, {&quot;x&quot;: -0.0005366660735054009, &quot;y&quot;: 0.007577119488472539, &quot;z&quot;: 0.006503787341461736}, {&quot;x&quot;: 0.0, &quot;y&quot;: 0.0, &quot;z&quot;: 0.0}], &quot;faces&quot;: [[0, 1, 2], [0, 3, 1], [0, 4, 3], [0, 5, 4], [0, 2, 5], [2, 1, 6, 7], [1, 3, 8, 6], [3, 4, 9, 8], [4, 5, 10, 9], [5, 2, 7, 10], [7, 6, 11], [6, 8, 11], [8, 9, 11], [9, 10, 11], [10, 7, 11]], &quot;color&quot;: &quot;#0000ff&quot;, &quot;opacity&quot;: 1.0}, {&quot;vertices&quot;: [{&quot;x&quot;: 1.9999999999999996, &quot;y&quot;: 0.9999999999999998, &quot;z&quot;: -1.0000000000000002}, {&quot;x&quot;: 1.9176811622397532, &quot;y&quot;: 0.9538452432066977, &quot;z&quot;: -0.9903383554633088}, {&quot;x&quot;: 1.909616328230938, &quot;y&quot;: 0.9848081641154689, &quot;z&quot;: -0.9755051025721684}, {&quot;x&quot;: 1.9379544850358774, &quot;y&quot;: 0.9358899539023031, &quot;z&quot;: -0.9677469991754553}, {&quot;x&quot;: 1.9424192535799647, &quot;y&quot;: 0.955755895743121, &quot;z&quot;: -0.9389515202464626}, {&quot;x&quot;: 1.924905309495988, &quot;y&quot;: 0.9859890123236698, &quot;z&quot;: -0.9437462918338673}, {&quot;x&quot;: 1.9265153077165043, &quot;y&quot;: 0.9632576538582521, &quot;z&quot;: -0.9632576538582525}], &quot;faces&quot;: [[0, 1, 2], [0, 3, 1], [0, 4, 3], [0, 5, 4], [0, 2, 5], [2, 1, 6], [1, 3, 6], [3, 4, 6], [4, 5, 6], [5, 2, 6]], &quot;color&quot;: &quot;#0000ff&quot;, &quot;opacity&quot;: 1.0}];\n    for ( var i=0 ; i < surfaces.length ; i++ ) addSurface( surfaces[i] );\n\n    function addSurface( json ) {\n\n        var useFaceColors = 'faceColors' in json ? true : false;\n\n        var geometry = new THREE.Geometry();\n        for ( var i=0 ; i < json.vertices.length ; i++ ) {\n            var v = json.vertices[i];\n            geometry.vertices.push( new THREE.Vector3( a[0]*v.x, a[1]*v.y, a[2]*v.z ) );\n        }\n        for ( var i=0 ; i < json.faces.length ; i++ ) {\n            var f = json.faces[i];\n            for ( var j=0 ; j < f.length - 2 ; j++ ) {\n                var face = new THREE.Face3( f[0], f[j+1], f[j+2] );\n                if ( useFaceColors ) face.color.set( json.faceColors[i] );\n                geometry.faces.push( face );\n            }\n        }\n        geometry.computeVertexNormals();\n\n        var side = json.singleSide ? THREE.FrontSide : THREE.DoubleSide;\n        var transparent = json.opacity < 1 ? true : false;\n        var depthWrite = 'depthWrite' in json ? json.depthWrite : !transparent;\n        var flatShading = json.useFlatShading ? json.useFlatShading : false;\n\n        var material = new THREE.MeshPhongMaterial( { side: side,\n                                     color: useFaceColors ? 'white' : json.color,\n                                     vertexColors: useFaceColors ? THREE.FaceColors : THREE.NoColors,\n                                     transparent: transparent, opacity: json.opacity,\n                                     shininess: 20, flatShading: flatShading,\n                                     depthWrite: depthWrite } );\n\n        var c = new THREE.Vector3();\n        geometry.computeBoundingBox();\n        geometry.boundingBox.getCenter( c );\n        geometry.translate( -c.x, -c.y, -c.z );\n\n        var mesh = new THREE.Mesh( geometry, material );\n        mesh.position.set( c.x, c.y, c.z );\n        if ( transparent && json.renderOrder ) mesh.renderOrder = json.renderOrder;\n        mesh.userData = json;\n        scene.add( mesh );\n\n        if ( json.showMeshGrid ) addSurfaceMeshGrid( json );\n\n    }\n\n    function addSurfaceMeshGrid( json ) {\n\n        var geometry = new THREE.Geometry();\n\n        for ( var i=0 ; i < json.faces.length ; i++ ) {\n            var f = json.faces[i];\n            for ( var j=0 ; j < f.length ; j++ ) {\n                var k = j === f.length-1 ? 0 : j+1;\n                var v1 = json.vertices[f[j]];\n                var v2 = json.vertices[f[k]];\n                // vertices in opposite directions on neighboring faces\n                var nudge = f[j] < f[k] ? .0005*zRange : -.0005*zRange;\n                geometry.vertices.push( new THREE.Vector3( a[0]*v1.x, a[1]*v1.y, a[2]*(v1.z+nudge) ) );\n                geometry.vertices.push( new THREE.Vector3( a[0]*v2.x, a[1]*v2.y, a[2]*(v2.z+nudge) ) );\n            }\n        }\n\n        var c = new THREE.Vector3();\n        geometry.computeBoundingBox();\n        geometry.boundingBox.getCenter( c );\n        geometry.translate( -c.x, -c.y, -c.z );\n\n        var gridColor = options.theme === 'dark' ? 'white' : 'black';\n        var linewidth = json.linewidth || 1;\n        var materialOptions = { color: gridColor, linewidth: linewidth };\n\n        var mesh;\n        if ( linewidth > 1 && window.createFatLineSegments ) {\n            mesh = createFatLineSegments( geometry, materialOptions );\n        } else {\n            var material = new THREE.LineBasicMaterial( materialOptions );\n            mesh = new THREE.LineSegments( geometry, material );\n        }\n\n        mesh.position.set( c.x, c.y, c.z );\n        mesh.userData = json;\n        scene.add( mesh );\n\n    }\n\n    function render() {\n\n        if ( window.updateAnimation ) animate = updateAnimation();\n        if ( animate ) requestAnimationFrame( render );\n\n        renderer.render( scene, camera );\n\n    }\n\n    render();\n    controls.update();\n    if ( !animate ) render();\n\n\n    // menu functions\n\n    function toggleMenu() {\n\n        var m = document.getElementById( 'menu-content' );\n        if ( m.style.display === 'block' ) m.style.display = 'none'\n        else m.style.display = 'block';\n\n    }\n\n\n    function saveAsPNG() {\n\n        var a = document.body.appendChild( document.createElement( 'a' ) );\n        a.href = renderer.domElement.toDataURL( 'image/png' );\n        a.download = 'screenshot';\n        a.click();\n\n    }\n\n    function saveAsHTML() {\n\n        toggleMenu(); // otherwise visible in output\n        event.stopPropagation();\n\n        var blob = new Blob( [ '<!DOCTYPE html>\\n' + document.documentElement.outerHTML ] );\n        var a = document.body.appendChild( document.createElement( 'a' ) );\n        a.href = window.URL.createObjectURL( blob );\n        a.download = suggestFilename();\n        a.click();\n\n        function suggestFilename() {\n            if ( !document.title ) {\n                return 'graphic.html';\n            } else if ( /\\.html?$/i.test( document.title ) ) {\n                return document.title; // already ends in .htm or .html\n            } else {\n                return document.title + '.html';\n            }\n        }\n\n    }\n\n    function getViewpoint() {\n\n        function roundTo( x, n ) { return +x.toFixed(n); }\n\n        var v = camera.quaternion.inverse();\n        var r = Math.sqrt( v.x*v.x + v.y*v.y + v.z*v.z );\n        var axis = [ roundTo( v.x / r, 4 ), roundTo( v.y / r, 4 ), roundTo( v.z / r, 4 ) ];\n        var angle = roundTo( 2 * Math.atan2( r, v.w ) * 180 / Math.PI, 2 );\n\n        var textArea = document.createElement( 'textarea' );\n        textArea.textContent = JSON.stringify( axis ) + ',' + angle;\n        textArea.style.csstext = 'position: absolute; top: -100%';\n        document.body.append( textArea );\n        textArea.select();\n        document.execCommand( 'copy' );\n\n        var m = document.getElementById( 'menu-message' );\n        m.innerHTML = 'Viewpoint copied to clipboard';\n        m.style.display = 'block';\n        setTimeout( function() { m.style.display = 'none'; }, 2000 );\n\n    }\n\n    function getCamera() {\n\n        function roundTo( x, n ) { return +x.toFixed(n); }\n\n        var pos = camera.position;\n        var pos_r = [ roundTo( pos.x, 4 ), roundTo( pos.y, 4 ), roundTo( pos.z, 4 ) ];\n   //     var up = camera.up; // up is always (0,0,1)\n        var textArea = document.createElement('textarea');\n        var cam_position = JSON.stringify(pos_r);\n        textArea.textContent = ',camera_position=' + cam_position;\n        textArea.style.csstext = 'position: absolute; top: -100%';\n        document.body.append( textArea );\n        textArea.select();\n        document.execCommand( 'copy' );\n\n        var m = document.getElementById( 'menu-message' );\n        m.innerHTML = 'Camera position '+ cam_position+' copied to clipboard';\n        m.style.display = 'block';\n        setTimeout( function() { m.style.display = 'none'; }, 2000 );\n\n    }\n                                       \n</script>\n\n<div id=&quot;menu-container&quot; onclick=&quot;toggleMenu()&quot;>&#x24d8;\n<div id=&quot;menu-message&quot;></div>\n<div id=&quot;menu-content&quot;>\n<div onclick=&quot;saveAsPNG()&quot;>Save as PNG</div>\n<div onclick=&quot;saveAsHTML()&quot;>Save as HTML</div>\n<div onclick=&quot;getCamera()&quot;>Get camera</div>\n<div onclick=&quot;getViewpoint()&quot;>Get viewpoint</div>\n<div>Close Menu</div>\n</div></div>\n\n\n</body>\n</html>\n\"\n        width=\"100%\"\n        height=\"400\"\n        style=\"border: 0;\">\n</iframe>\n",
      "text/plain": [
       "Graphics3d Object"
      ]
     },
     "execution_count": 7,
     "metadata": {
     },
     "output_type": "execute_result"
    }
   ],
   "source": [
    "# We can plot the defining vectors\n",
    "vplot = a.plot(color = 'red')+b.plot(color='green')+c.plot(color = 'blue')\n",
    "show(vplot,frame=False,figsize=3,aspect_ratio='automatic')"
   ]
  },
  {
   "cell_type": "code",
   "execution_count": 8,
   "metadata": {
    "collapsed": false
   },
   "outputs": [
    {
     "data": {
      "text/plain": [
       "(-3, -3, 1)"
      ]
     },
     "execution_count": 8,
     "metadata": {
     },
     "output_type": "execute_result"
    }
   ],
   "source": [
    "# Scalar multiplicatio or linear combination\n",
    "2*a+3*b-4*c"
   ]
  },
  {
   "cell_type": "code",
   "execution_count": 10,
   "metadata": {
    "collapsed": false
   },
   "outputs": [
    {
     "data": {
      "text/html": [
       "<html>\\[\\newcommand{\\Bold}[1]{\\mathbf{#1}}\\sqrt{14}\\]</html>"
      ],
      "text/latex": [
       "$$\\newcommand{\\Bold}[1]{\\mathbf{#1}}\\sqrt{14}$$"
      ],
      "text/plain": [
       "sqrt(14)"
      ]
     },
     "execution_count": 10,
     "metadata": {
     },
     "output_type": "execute_result"
    }
   ],
   "source": [
    "# We can find the length of a vector this is Euclidean norm\n",
    "l1 = a.norm()\n",
    "show(l1)"
   ]
  },
  {
   "cell_type": "code",
   "execution_count": 11,
   "metadata": {
    "collapsed": false
   },
   "outputs": [
    {
     "data": {
      "text/html": [
       "<html>\\[\\newcommand{\\Bold}[1]{\\mathbf{#1}}3.74165738677394\\]</html>"
      ],
      "text/latex": [
       "$$\\newcommand{\\Bold}[1]{\\mathbf{#1}}3.74165738677394$$"
      ],
      "text/plain": [
       "3.74165738677394"
      ]
     },
     "execution_count": 11,
     "metadata": {
     },
     "output_type": "execute_result"
    }
   ],
   "source": [
    "# find the numerical form \n",
    "l = a.norm().n()\n",
    "show(l)"
   ]
  },
  {
   "cell_type": "code",
   "execution_count": 12,
   "metadata": {
    "collapsed": false
   },
   "outputs": [
    {
     "data": {
      "text/html": [
       "<html>\\[\\newcommand{\\Bold}[1]{\\mathbf{#1}}6\\]</html>"
      ],
      "text/latex": [
       "$$\\newcommand{\\Bold}[1]{\\mathbf{#1}}6$$"
      ],
      "text/plain": [
       "6"
      ]
     },
     "execution_count": 12,
     "metadata": {
     },
     "output_type": "execute_result"
    }
   ],
   "source": [
    "# Finding l1 or modulus\n",
    "lmod = a.norm(1)\n",
    "show(lmod)"
   ]
  },
  {
   "cell_type": "code",
   "execution_count": 14,
   "metadata": {
    "collapsed": false
   },
   "outputs": [
    {
     "data": {
      "text/html": [
       "<html>\\[\\newcommand{\\Bold}[1]{\\mathbf{#1}}3\\]</html>"
      ],
      "text/latex": [
       "$$\\newcommand{\\Bold}[1]{\\mathbf{#1}}3$$"
      ],
      "text/plain": [
       "3"
      ]
     },
     "execution_count": 14,
     "metadata": {
     },
     "output_type": "execute_result"
    }
   ],
   "source": [
    "# Find the supremum\n",
    "# Maximum of mod of each entry\n",
    "lsup = a.norm(infinity)\n",
    "show(lsup)"
   ]
  },
  {
   "cell_type": "markdown",
   "metadata": {
    "collapsed": false
   },
   "source": [
    "**Dot product of a vectors**"
   ]
  },
  {
   "cell_type": "code",
   "execution_count": 15,
   "metadata": {
    "collapsed": false
   },
   "outputs": [
    {
     "data": {
      "text/plain": [
       "((1, 2, -3), (1, -1, 1))"
      ]
     },
     "execution_count": 15,
     "metadata": {
     },
     "output_type": "execute_result"
    }
   ],
   "source": [
    "a,b"
   ]
  },
  {
   "cell_type": "code",
   "execution_count": 16,
   "metadata": {
    "collapsed": false
   },
   "outputs": [
    {
     "data": {
      "text/plain": [
       "-4"
      ]
     },
     "execution_count": 16,
     "metadata": {
     },
     "output_type": "execute_result"
    }
   ],
   "source": [
    "# Dot product\n",
    "a.dot_product(b) # or a*b"
   ]
  },
  {
   "cell_type": "markdown",
   "metadata": {
    "collapsed": false
   },
   "source": [
    "**Cross Product of two vectors**"
   ]
  },
  {
   "cell_type": "code",
   "execution_count": 17,
   "metadata": {
    "collapsed": false
   },
   "outputs": [
    {
     "data": {
      "text/plain": [
       "(-1, -4, -3)"
      ]
     },
     "execution_count": 17,
     "metadata": {
     },
     "output_type": "execute_result"
    }
   ],
   "source": [
    "a.cross_product(b)"
   ]
  },
  {
   "cell_type": "code",
   "execution_count": 18,
   "metadata": {
    "collapsed": false
   },
   "outputs": [
    {
     "data": {
      "text/plain": [
       "0"
      ]
     },
     "execution_count": 18,
     "metadata": {
     },
     "output_type": "execute_result"
    }
   ],
   "source": [
    "# Checking perpendicularity\n",
    "w = a.cross_product(b)\n",
    "w.dot_product(a)"
   ]
  },
  {
   "cell_type": "code",
   "execution_count": 19,
   "metadata": {
    "collapsed": false
   },
   "outputs": [
    {
     "data": {
      "text/html": "\n<iframe srcdoc=\"<!DOCTYPE html>\n<html>\n<head>\n<title></title>\n<meta charset=&quot;utf-8&quot;>\n<meta name=viewport content=&quot;width=device-width, user-scalable=no, minimum-scale=1.0, maximum-scale=1.0&quot;>\n<style>\n\n    body { margin: 0px; overflow: hidden; }\n\n    #menu-container { position: absolute; bottom: 30px; right: 40px; cursor: default; }\n\n    #menu-message { position: absolute; bottom: 0px; right: 0px; white-space: nowrap;\n                    display: none; background-color: #F5F5F5; padding: 10px; }\n\n    #menu-content { position: absolute; bottom: 0px; right: 0px;\n                    display: none; background-color: #F5F5F5; border-bottom: 1px solid black;\n                    border-right: 1px solid black; border-left: 1px solid black; }\n\n    #menu-content div { border-top: 1px solid black; padding: 10px; white-space: nowrap; }\n\n    #menu-content div:hover { background-color: #FEFEFE; }\n\n    .dark-theme #menu-container { color: white; }\n\n    .dark-theme #menu-message { background-color: #181818; }\n\n    .dark-theme #menu-content { background-color: #181818; border-color: white; }\n\n    .dark-theme #menu-content div { border-color: white; }\n\n    .dark-theme #menu-content div:hover { background-color: #303030; }\n\n</style>\n\n</head>\n\n<body>\n\n<script src=&quot;/nbextensions/threejs-sage/r122/three.min.js&quot;></script>\n<script>\n  if ( !window.THREE ) document.write(' \\\n<script src=&quot;https://cdn.jsdelivr.net/gh/sagemath/threejs-sage@r122/build/three.min.js&quot;><\\/script> \\\n            ');\n</script>\n        \n<script>\n\n    var options = {&quot;animate&quot;: false, &quot;animationControls&quot;: true, &quot;aspectRatio&quot;: [1.0, 1.0, 1.0], &quot;autoPlay&quot;: true, &quot;axes&quot;: false, &quot;axesLabels&quot;: [&quot;x&quot;, &quot;y&quot;, &quot;z&quot;], &quot;axesLabelsStyle&quot;: null, &quot;decimals&quot;: 2, &quot;delay&quot;: 20, &quot;frame&quot;: true, &quot;loop&quot;: true, &quot;projection&quot;: &quot;perspective&quot;, &quot;theme&quot;: &quot;light&quot;, &quot;viewpoint&quot;: false};\n    var animate = options.animate;\n\n    if ( options.theme === 'dark' )\n        document.body.className = 'dark-theme';\n\n    var scene = new THREE.Scene();\n\n    var renderer = new THREE.WebGLRenderer( { antialias: true, preserveDrawingBuffer: true } );\n    renderer.setPixelRatio( window.devicePixelRatio );\n    renderer.setSize( window.innerWidth, window.innerHeight );\n    renderer.setClearColor( options.theme === 'dark' ? 0 : 0xffffff, 1 );\n    document.body.appendChild( renderer.domElement );\n\n    var b = [{&quot;x&quot;:-1.0, &quot;y&quot;:-4.0, &quot;z&quot;:-3.0}, {&quot;x&quot;:1.0, &quot;y&quot;:2.0, &quot;z&quot;:1.0}]; // bounds\n\n    if ( b[0].x === b[1].x ) {\n        b[0].x -= 1;\n        b[1].x += 1;\n    }\n    if ( b[0].y === b[1].y ) {\n        b[0].y -= 1;\n        b[1].y += 1;\n    }\n    if ( b[0].z === b[1].z ) {\n        b[0].z -= 1;\n        b[1].z += 1;\n    }\n\n    var rRange = Math.sqrt( Math.pow( b[1].x - b[0].x, 2 )\n                            + Math.pow( b[1].y - b[0].y, 2 ) );\n    var xRange = b[1].x - b[0].x;\n    var yRange = b[1].y - b[0].y;\n    var zRange = b[1].z - b[0].z;\n\n    var ar = options.aspectRatio;\n    var a = [ ar[0], ar[1], ar[2] ]; // aspect multipliers\n    var autoAspect = 2.5;\n    if ( zRange > autoAspect * rRange && a[2] === 1 ) a[2] = autoAspect * rRange / zRange;\n\n    // Distance from (xMid,yMid,zMid) to any corner of the bounding box, after applying aspectRatio\n    var midToCorner = Math.sqrt( a[0]*a[0]*xRange*xRange + a[1]*a[1]*yRange*yRange + a[2]*a[2]*zRange*zRange ) / 2;\n\n    var xMid = ( b[0].x + b[1].x ) / 2;\n    var yMid = ( b[0].y + b[1].y ) / 2;\n    var zMid = ( b[0].z + b[1].z ) / 2;\n\n    var box = new THREE.Geometry();\n    box.vertices.push( new THREE.Vector3( a[0]*b[0].x, a[1]*b[0].y, a[2]*b[0].z ) );\n    box.vertices.push( new THREE.Vector3( a[0]*b[1].x, a[1]*b[1].y, a[2]*b[1].z ) );\n    var boxMesh = new THREE.Line( box );\n    var boxColor = options.theme === 'dark' ? 'white' : 'black';\n    if ( options.frame ) scene.add( new THREE.BoxHelper( boxMesh, boxColor ) );\n\n    if ( options.axesLabels ) {\n\n        var d = options.decimals; // decimals\n        var offsetRatio = 0.1;\n        var al = options.axesLabels;\n        var als = options.axesLabelsStyle || [{}, {}, {}];\n\n        var offset = offsetRatio * a[1]*( b[1].y - b[0].y );\n        var xm = xMid.toFixed(d);\n        if ( /^-0.?0*$/.test(xm) ) xm = xm.substr(1);\n        addLabel( al[0] + '=' + xm, a[0]*xMid, a[1]*b[1].y+offset, a[2]*b[0].z, als[0] );\n        addLabel( ( b[0].x ).toFixed(d), a[0]*b[0].x, a[1]*b[1].y+offset, a[2]*b[0].z, als[0] );\n        addLabel( ( b[1].x ).toFixed(d), a[0]*b[1].x, a[1]*b[1].y+offset, a[2]*b[0].z, als[0] );\n\n        var offset = offsetRatio * a[0]*( b[1].x - b[0].x );\n        var ym = yMid.toFixed(d);\n        if ( /^-0.?0*$/.test(ym) ) ym = ym.substr(1);\n        addLabel( al[1] + '=' + ym, a[0]*b[1].x+offset, a[1]*yMid, a[2]*b[0].z, als[1] );\n        addLabel( ( b[0].y ).toFixed(d), a[0]*b[1].x+offset, a[1]*b[0].y, a[2]*b[0].z, als[1] );\n        addLabel( ( b[1].y ).toFixed(d), a[0]*b[1].x+offset, a[1]*b[1].y, a[2]*b[0].z, als[1] );\n\n        var offset = offsetRatio * a[1]*( b[1].y - b[0].y );\n        var zm = zMid.toFixed(d);\n        if ( /^-0.?0*$/.test(zm) ) zm = zm.substr(1);\n        addLabel( al[2] + '=' + zm, a[0]*b[1].x, a[1]*b[0].y-offset, a[2]*zMid, als[2] );\n        addLabel( ( b[0].z ).toFixed(d), a[0]*b[1].x, a[1]*b[0].y-offset, a[2]*b[0].z, als[2] );\n        addLabel( ( b[1].z ).toFixed(d), a[0]*b[1].x, a[1]*b[0].y-offset, a[2]*b[1].z, als[2] );\n\n    }\n\n    function addLabel( text, x, y, z, style ) {\n\n        var color = style.color || 'black';\n        var fontSize = style.fontSize || 14;\n        var fontFamily = style.fontFamily || 'monospace';\n        var fontStyle = style.fontStyle || 'normal';\n        var fontWeight = style.fontWeight || 'normal';\n        var opacity = style.opacity || 1;\n\n        if ( options.theme === 'dark' )\n            if ( color === 'black' || color === '#000000' )\n                color = 'white';\n\n        if ( Array.isArray( fontStyle ) ) {\n            fontFamily = fontFamily.map( function( f ) {\n                // Need to put quotes around fonts that have whitespace in their names.\n                return /\\s/.test( f ) ? '&quot;' + f + '&quot;' : f;\n            }).join(', ');\n        }\n\n        var canvas = document.createElement( 'canvas' );\n        var context = canvas.getContext( '2d' );\n        var pixelRatio = Math.round( window.devicePixelRatio );\n\n        // For example: italic bold 20px &quot;Times New Roman&quot;, Georgia, serif\n        var font = [fontStyle, fontWeight, fontSize + 'px', fontFamily].join(' ');\n\n        context.font = font;\n        var width = context.measureText( text ).width;\n        var height = fontSize;\n\n        // The dimensions of the canvas's underlying image data need to be powers\n        // of two in order for the resulting texture to support mipmapping.\n        canvas.width = THREE.MathUtils.ceilPowerOfTwo( width * pixelRatio );\n        canvas.height = THREE.MathUtils.ceilPowerOfTwo( height * pixelRatio );\n\n        // Re-compute the unscaled dimensions after the power of two conversion.\n        width = canvas.width / pixelRatio;\n        height = canvas.height / pixelRatio;\n\n        canvas.style.width = width + 'px';\n        canvas.style.height = height + 'px';\n\n        context.scale( pixelRatio, pixelRatio );\n        context.fillStyle = color;\n        context.font = font; // Must be set again after measureText.\n        context.textAlign = 'center';\n        context.textBaseline = 'middle';\n        context.fillText( text, width/2, height/2 );\n\n        var texture = new THREE.Texture( canvas );\n        texture.needsUpdate = true;\n\n        var materialOptions = { map: texture, sizeAttenuation: false, depthWrite: false };\n        if ( opacity < 1 ) {\n            // Setting opacity=1 would cause the texture's alpha component to be\n            // discarded, giving the text a black background instead of the\n            // background being transparent.\n            materialOptions.opacity = opacity;\n        }\n        var sprite = new THREE.Sprite( new THREE.SpriteMaterial( materialOptions ) );\n        sprite.position.set( x, y, z );\n\n        // Scaling factor, chosen somewhat arbitrarily so that the size of the text\n        // is consistent with previously generated plots.\n        var scale = 1/625;\n        if ( options.projection === 'orthographic' ) {\n            scale = midToCorner/256; // Needs to scale along with the plot itself.\n        }\n        sprite.scale.set( scale * width, scale * height, 1 );\n\n        scene.add( sprite );\n\n        return sprite;\n\n    }\n\n    if ( options.axes ) scene.add( new THREE.AxesHelper( Math.min( a[0]*b[1].x, a[1]*b[1].y, a[2]*b[1].z ) ) );\n\n    var camera = createCamera();\n    camera.up.set( 0, 0, 1 );\n    camera.position.set( a[0]*xMid, a[1]*yMid, a[2]*zMid );\n\n    var offset = new THREE.Vector3( a[0]*xRange, a[1]*yRange, a[2]*zRange );\n\n    if ( options.viewpoint ) {\n\n        var aa = options.viewpoint;\n        var axis = new THREE.Vector3( aa[0][0], aa[0][1], aa[0][2] ).normalize();\n        var angle = aa[1] * Math.PI / 180;\n        var q = new THREE.Quaternion().setFromAxisAngle( axis, angle ).inverse();\n\n        offset.set( 0, 0, offset.length() );\n        offset.applyQuaternion( q );\n\n    }\n\n    camera.position.add( offset );\n\n    function createCamera() {\n\n        var aspect = window.innerWidth / window.innerHeight;\n\n        // Scale the near and far clipping planes along with the overall plot size.\n        var nearClip = 0.01 * midToCorner;\n        var farClip = 100 * midToCorner;\n\n        if ( options.projection === 'orthographic' ) {\n            var camera = new THREE.OrthographicCamera( -1, 1, 1, -1, -farClip, farClip );\n            updateCameraAspect( camera, aspect );\n            return camera;\n        }\n\n        return new THREE.PerspectiveCamera( 45, aspect, nearClip, farClip );\n\n    }\n\n    function updateCameraAspect( camera, aspect ) {\n\n        if ( camera.isPerspectiveCamera ) {\n            camera.aspect = aspect;\n        } else if ( camera.isOrthographicCamera ) {\n            // Fit the camera frustum to the bounding box's diagonal so that the entire plot fits\n            // within at the default zoom level and camera position.\n            if ( aspect > 1 ) { // Wide window\n                camera.top = midToCorner;\n                camera.right = midToCorner * aspect;\n            } else { // Tall or square window\n                camera.top = midToCorner / aspect;\n                camera.right = midToCorner;\n            }\n            camera.bottom = -camera.top;\n            camera.left = -camera.right;\n        }\n\n        camera.updateProjectionMatrix();\n\n    }\n\n    var lights = [{&quot;x&quot;:-5, &quot;y&quot;:3, &quot;z&quot;:0, &quot;color&quot;:&quot;#7f7f7f&quot;, &quot;parent&quot;:&quot;camera&quot;}];\n    for ( var i=0 ; i < lights.length ; i++ ) {\n        var light = new THREE.DirectionalLight( lights[i].color, 1 );\n        light.position.set( a[0]*lights[i].x, a[1]*lights[i].y, a[2]*lights[i].z );\n        if ( lights[i].parent === 'camera' ) {\n            light.target.position.set( a[0]*xMid, a[1]*yMid, a[2]*zMid );\n            scene.add( light.target );\n            camera.add( light );\n        } else scene.add( light );\n    }\n    scene.add( camera );\n\n    var ambient = {&quot;color&quot;:&quot;#7f7f7f&quot;};\n    scene.add( new THREE.AmbientLight( ambient.color, 1 ) );\n\n    var controls = new THREE.OrbitControls( camera, renderer.domElement );\n    controls.target.set( a[0]*xMid, a[1]*yMid, a[2]*zMid );\n    controls.addEventListener( 'change', function() { if ( !animate ) render(); } );\n\n    window.addEventListener( 'resize', function() {\n\n        renderer.setSize( window.innerWidth, window.innerHeight );\n        updateCameraAspect( camera, window.innerWidth / window.innerHeight );\n        if ( window.rescaleFatLines ) rescaleFatLines();\n        if ( !animate ) render();\n\n    } );\n\n    var texts = [];\n    for ( var i=0 ; i < texts.length ; i++ ) addText( texts[i] );\n\n    function addText( json ) {\n        var sprite = addLabel( json.text, a[0]*json.x, a[1]*json.y, a[2]*json.z, json );\n        sprite.userData = json;\n    }\n\n    var points = [];\n    for ( var i=0 ; i < points.length ; i++ ) addPoint( points[i] );\n\n    function addPoint( json ) {\n\n        var geometry = new THREE.Geometry();\n        var v = json.point;\n        geometry.vertices.push( new THREE.Vector3( a[0]*v[0], a[1]*v[1], a[2]*v[2] ) );\n\n        var canvas = document.createElement( 'canvas' );\n        canvas.width = 128;\n        canvas.height = 128;\n\n        var context = canvas.getContext( '2d' );\n        context.arc( 64, 64, 64, 0, 2 * Math.PI );\n        context.fillStyle = json.color;\n        context.fill();\n\n        var texture = new THREE.Texture( canvas );\n        texture.needsUpdate = true;\n\n        var transparent = json.opacity < 1 ? true : false;\n        var size = camera.isOrthographicCamera ? json.size : json.size/100;\n        var material = new THREE.PointsMaterial( { size: size, map: texture,\n                                                   transparent: transparent, opacity: json.opacity,\n                                                   alphaTest: .1 } );\n\n        var c = new THREE.Vector3();\n        geometry.computeBoundingBox();\n        geometry.boundingBox.getCenter( c );\n        geometry.translate( -c.x, -c.y, -c.z );\n\n        var mesh = new THREE.Points( geometry, material );\n        mesh.position.set( c.x, c.y, c.z );\n        mesh.userData = json;\n        scene.add( mesh );\n\n    }\n\n    var lines = [];\n    for ( var i=0 ; i < lines.length ; i++ ) addLine( lines[i] );\n\n    function addLine( json ) {\n\n        var geometry = new THREE.Geometry();\n        for ( var i=0 ; i < json.points.length ; i++ ) {\n            var v = json.points[i];\n            geometry.vertices.push( new THREE.Vector3( a[0]*v[0], a[1]*v[1], a[2]*v[2] ) );\n        }\n\n        var c = new THREE.Vector3();\n        geometry.computeBoundingBox();\n        geometry.boundingBox.getCenter( c );\n        geometry.translate( -c.x, -c.y, -c.z );\n\n        var transparent = json.opacity < 1 ? true : false;\n        var materialOptions = { color: json.color, linewidth: json.linewidth,\n                                transparent: transparent, opacity: json.opacity };\n\n        var mesh;\n        if ( json.linewidth > 1 && window.createFatLineStrip ) {\n            mesh = createFatLineStrip( geometry, materialOptions );\n        } else {\n            var material = new THREE.LineBasicMaterial( materialOptions );\n            mesh = new THREE.Line( geometry, material );\n        }\n\n        mesh.position.set( c.x, c.y, c.z );\n        mesh.userData = json;\n        scene.add( mesh );\n\n    }\n\n    var surfaces = [{&quot;vertices&quot;: [{&quot;x&quot;: 0.9759464882278817, &quot;y&quot;: 1.9518929764557633, &quot;z&quot;: -2.9278394646836454}, {&quot;x&quot;: 0.9798027299184351, &quot;y&quot;: 1.9436744994547166, &quot;z&quot;: -2.932033035454159}, {&quot;x&quot;: 0.9687393533249326, &quot;y&quot;: 1.947478706649865, &quot;z&quot;: -2.933184689521894}, {&quot;x&quot;: 0.9855369115644271, &quot;y&quot;: 1.9512279481392554, &quot;z&quot;: -2.925086009115802}, {&quot;x&quot;: 0.9780174541258135, &quot;y&quot;: 1.959700443353727, &quot;z&quot;: -2.9219441647856925}, {&quot;x&quot;: 0.9676359922058, &quot;y&quot;: 1.9573832846812524, &quot;z&quot;: -2.92694942454068}, {&quot;x&quot;: 0.003856241690553442, &quot;y&quot;: -0.008218477001046715, &quot;z&quot;: -0.004193570770513328}, {&quot;x&quot;: -0.007207134902949093, &quot;y&quot;: -0.004414269805898186, &quot;z&quot;: -0.005345224838248487}, {&quot;x&quot;: 0.009590423336545474, &quot;y&quot;: -0.0006650283165079893, &quot;z&quot;: 0.002753455567843164}, {&quot;x&quot;: 0.002070965897931834, &quot;y&quot;: 0.007807466897963654, &quot;z&quot;: 0.005895299897953046}, {&quot;x&quot;: -0.008310496022081655, &quot;y&quot;: 0.005490308225489236, &quot;z&quot;: 0.000890040142965605}, {&quot;x&quot;: 0.0, &quot;y&quot;: 0.0, &quot;z&quot;: 0.0}], &quot;faces&quot;: [[0, 1, 2], [0, 3, 1], [0, 4, 3], [0, 5, 4], [0, 2, 5], [2, 1, 6, 7], [1, 3, 8, 6], [3, 4, 9, 8], [4, 5, 10, 9], [5, 2, 7, 10], [7, 6, 11], [6, 8, 11], [8, 9, 11], [9, 10, 11], [10, 7, 11]], &quot;color&quot;: &quot;#6666ff&quot;, &quot;opacity&quot;: 1.0}, {&quot;vertices&quot;: [{&quot;x&quot;: 0.9999999999999999, &quot;y&quot;: 1.9999999999999998, &quot;z&quot;: -3.0}, {&quot;x&quot;: 0.987515213299542, &quot;y&quot;: 1.9272375454526232, &quot;z&quot;: -2.940420176995185}, {&quot;x&quot;: 0.9543250835190343, &quot;y&quot;: 1.9386501670380687, &quot;z&quot;: -2.943875139198391}, {&quot;x&quot;: 1.004717758237518, &quot;y&quot;: 1.9498978915062393, &quot;z&quot;: -2.9195790979801157}, {&quot;x&quot;: 0.9821593859216772, &quot;y&quot;: 1.9753153771496543, &quot;z&quot;: -2.9101535649897863}, {&quot;x&quot;: 0.9510150001616366, &quot;y&quot;: 1.968363901132231, &quot;z&quot;: -2.9251693442547486}, {&quot;x&quot;: 0.9759464882278817, &quot;y&quot;: 1.9518929764557633, &quot;z&quot;: -2.9278394646836454}], &quot;faces&quot;: [[0, 1, 2], [0, 3, 1], [0, 4, 3], [0, 5, 4], [0, 2, 5], [2, 1, 6], [1, 3, 6], [3, 4, 6], [4, 5, 6], [5, 2, 6]], &quot;color&quot;: &quot;#6666ff&quot;, &quot;opacity&quot;: 1.0}, {&quot;vertices&quot;: [{&quot;x&quot;: 0.9480384757729335, &quot;y&quot;: -0.9480384757729335, &quot;z&quot;: 0.9480384757729337}, {&quot;x&quot;: 0.9561922517803391, &quot;y&quot;: -0.943591516673638, &quot;z&quot;: 0.9443316588648235}, {&quot;x&quot;: 0.9501517244269854, &quot;y&quot;: -0.9401517244269855, &quot;z&quot;: 0.9538119784648299}, {&quot;x&quot;: 0.9509645378281117, &quot;y&quot;: -0.9531768552489365, &quot;z&quot;: 0.9399740342417525}, {&quot;x&quot;: 0.9416931055688195, &quot;y&quot;: -0.9556611280354936, &quot;z&quot;: 0.9467611937144876}, {&quot;x&quot;: 0.941190759260412, &quot;y&quot;: -0.9476111544796141, &quot;z&quot;: 0.9553135135787747}, {&quot;x&quot;: 0.008153776007405553, &quot;y&quot;: 0.004446959099295457, &quot;z&quot;: -0.003706816908110096}, {&quot;x&quot;: 0.0021132486540518707, &quot;y&quot;: 0.007886751345948129, &quot;z&quot;: 0.005773502691896257}, {&quot;x&quot;: 0.0029260620551781764, &quot;y&quot;: -0.005138379476002918, &quot;z&quot;: -0.008064441531181092}, {&quot;x&quot;: -0.006345370204114071, &quot;y&quot;: -0.007622652262560136, &quot;z&quot;: -0.0012772820584460646}, {&quot;x&quot;: -0.00684771651252153, &quot;y&quot;: 0.0004273212933194664, &quot;z&quot;: 0.0072750378058409945}, {&quot;x&quot;: 0.0, &quot;y&quot;: 0.0, &quot;z&quot;: 0.0}], &quot;faces&quot;: [[0, 1, 2], [0, 3, 1], [0, 4, 3], [0, 5, 4], [0, 2, 5], [2, 1, 6, 7], [1, 3, 8, 6], [3, 4, 9, 8], [4, 5, 10, 9], [5, 2, 7, 10], [7, 6, 11], [6, 8, 11], [8, 9, 11], [9, 10, 11], [10, 7, 11]], &quot;color&quot;: &quot;#6666ff&quot;, &quot;opacity&quot;: 1.0}, {&quot;vertices&quot;: [{&quot;x&quot;: 0.9999999999999999, &quot;y&quot;: -0.9999999999999999, &quot;z&quot;: 1.0}, {&quot;x&quot;: 0.9724998037951502, &quot;y&quot;: -0.9346975984750472, &quot;z&quot;: 0.9369180250486033}, {&quot;x&quot;: 0.9543782217350891, &quot;y&quot;: -0.9243782217350891, &quot;z&quot;: 0.9653589838486224}, {&quot;x&quot;: 0.956816661938468, &quot;y&quot;: -0.9634536142009423, &quot;z&quot;: 0.9238451511793904}, {&quot;x&quot;: 0.9290023651605913, &quot;y&quot;: -0.9709064325606139, &quot;z&quot;: 0.9442066295975955}, {&quot;x&quot;: 0.9274953262353689, &quot;y&quot;: -0.9467565118929752, &quot;z&quot;: 0.9698635891904567}, {&quot;x&quot;: 0.9480384757729335, &quot;y&quot;: -0.9480384757729335, &quot;z&quot;: 0.9480384757729337}], &quot;faces&quot;: [[0, 1, 2], [0, 3, 1], [0, 4, 3], [0, 5, 4], [0, 2, 5], [2, 1, 6], [1, 3, 6], [3, 4, 6], [4, 5, 6], [5, 2, 6]], &quot;color&quot;: &quot;#6666ff&quot;, &quot;opacity&quot;: 1.0}, {&quot;vertices&quot;: [{&quot;x&quot;: -0.9823495478375633, &quot;y&quot;: -3.9293981913502534, &quot;z&quot;: -2.9470486435126904}, {&quot;x&quot;: -0.9748824624994131, &quot;y&quot;: -3.9344819407057092, &quot;z&quot;: -2.942759339484799}, {&quot;x&quot;: -0.9860868382032446, &quot;y&quot;: -3.9343473528129786, &quot;z&quot;: -2.939203998107163}, {&quot;x&quot;: -0.9739973449360092, &quot;y&quot;: -3.927590959779485, &quot;z&quot;: -2.9522423532408992}, {&quot;x&quot;: -0.9846546879016176, &quot;y&quot;: -3.923197511458521, &quot;z&quot;: -2.9545478366803155}, {&quot;x&quot;: -0.9921264056475321, &quot;y&quot;: -3.927373191994573, &quot;z&quot;: -2.946489690050275}, {&quot;x&quot;: 0.007467085338150177, &quot;y&quot;: -0.005083749355455956, &quot;z&quot;: 0.004289304027891214}, {&quot;x&quot;: -0.003737290365681299, &quot;y&quot;: -0.004949161462725197, &quot;z&quot;: 0.00784464540552736}, {&quot;x&quot;: 0.008352202901554112, &quot;y&quot;: 0.0018072315707680447, &quot;z&quot;: -0.005193709728208764}, {&quot;x&quot;: -0.002305140064054244, &quot;y&quot;: 0.006200679891732468, &quot;z&quot;: -0.007499193167625209}, {&quot;x&quot;: -0.009776857809968743, &quot;y&quot;: 0.002024999355680639, &quot;z&quot;: 0.0005589534624153957}, {&quot;x&quot;: 0.0, &quot;y&quot;: 0.0, &quot;z&quot;: 0.0}], &quot;faces&quot;: [[0, 1, 2], [0, 3, 1], [0, 4, 3], [0, 5, 4], [0, 2, 5], [2, 1, 6, 7], [1, 3, 8, 6], [3, 4, 9, 8], [4, 5, 10, 9], [5, 2, 7, 10], [7, 6, 11], [6, 8, 11], [8, 9, 11], [9, 10, 11], [10, 7, 11]], &quot;color&quot;: &quot;#008000&quot;, &quot;opacity&quot;: 1.0}, {&quot;vertices&quot;: [{&quot;x&quot;: -0.9999999999999999, &quot;y&quot;: -3.9999999999999996, &quot;z&quot;: -3.0}, {&quot;x&quot;: -0.9599482918231128, &quot;y&quot;: -3.9446494394166214, &quot;z&quot;: -2.934180731429017}, {&quot;x&quot;: -0.9935614189346073, &quot;y&quot;: -3.9442456757384288, &quot;z&quot;: -2.9235147072961083}, {&quot;x&quot;: -0.957292939132901, &quot;y&quot;: -3.923976496637949, &quot;z&quot;: -2.9626297726973165}, {&quot;x&quot;: -0.9892649680297261, &quot;y&quot;: -3.910796151675056, &quot;z&quot;: -2.969546223015566}, {&quot;x&quot;: -1.0116801212674695, &quot;y&quot;: -3.9233231932832116, &quot;z&quot;: -2.9453717831254442}, {&quot;x&quot;: -0.9823495478375633, &quot;y&quot;: -3.9293981913502534, &quot;z&quot;: -2.9470486435126904}], &quot;faces&quot;: [[0, 1, 2], [0, 3, 1], [0, 4, 3], [0, 5, 4], [0, 2, 5], [2, 1, 6], [1, 3, 6], [3, 4, 6], [4, 5, 6], [5, 2, 6]], &quot;color&quot;: &quot;#008000&quot;, &quot;opacity&quot;: 1.0}];\n    for ( var i=0 ; i < surfaces.length ; i++ ) addSurface( surfaces[i] );\n\n    function addSurface( json ) {\n\n        var useFaceColors = 'faceColors' in json ? true : false;\n\n        var geometry = new THREE.Geometry();\n        for ( var i=0 ; i < json.vertices.length ; i++ ) {\n            var v = json.vertices[i];\n            geometry.vertices.push( new THREE.Vector3( a[0]*v.x, a[1]*v.y, a[2]*v.z ) );\n        }\n        for ( var i=0 ; i < json.faces.length ; i++ ) {\n            var f = json.faces[i];\n            for ( var j=0 ; j < f.length - 2 ; j++ ) {\n                var face = new THREE.Face3( f[0], f[j+1], f[j+2] );\n                if ( useFaceColors ) face.color.set( json.faceColors[i] );\n                geometry.faces.push( face );\n            }\n        }\n        geometry.computeVertexNormals();\n\n        var side = json.singleSide ? THREE.FrontSide : THREE.DoubleSide;\n        var transparent = json.opacity < 1 ? true : false;\n        var depthWrite = 'depthWrite' in json ? json.depthWrite : !transparent;\n        var flatShading = json.useFlatShading ? json.useFlatShading : false;\n\n        var material = new THREE.MeshPhongMaterial( { side: side,\n                                     color: useFaceColors ? 'white' : json.color,\n                                     vertexColors: useFaceColors ? THREE.FaceColors : THREE.NoColors,\n                                     transparent: transparent, opacity: json.opacity,\n                                     shininess: 20, flatShading: flatShading,\n                                     depthWrite: depthWrite } );\n\n        var c = new THREE.Vector3();\n        geometry.computeBoundingBox();\n        geometry.boundingBox.getCenter( c );\n        geometry.translate( -c.x, -c.y, -c.z );\n\n        var mesh = new THREE.Mesh( geometry, material );\n        mesh.position.set( c.x, c.y, c.z );\n        if ( transparent && json.renderOrder ) mesh.renderOrder = json.renderOrder;\n        mesh.userData = json;\n        scene.add( mesh );\n\n        if ( json.showMeshGrid ) addSurfaceMeshGrid( json );\n\n    }\n\n    function addSurfaceMeshGrid( json ) {\n\n        var geometry = new THREE.Geometry();\n\n        for ( var i=0 ; i < json.faces.length ; i++ ) {\n            var f = json.faces[i];\n            for ( var j=0 ; j < f.length ; j++ ) {\n                var k = j === f.length-1 ? 0 : j+1;\n                var v1 = json.vertices[f[j]];\n                var v2 = json.vertices[f[k]];\n                // vertices in opposite directions on neighboring faces\n                var nudge = f[j] < f[k] ? .0005*zRange : -.0005*zRange;\n                geometry.vertices.push( new THREE.Vector3( a[0]*v1.x, a[1]*v1.y, a[2]*(v1.z+nudge) ) );\n                geometry.vertices.push( new THREE.Vector3( a[0]*v2.x, a[1]*v2.y, a[2]*(v2.z+nudge) ) );\n            }\n        }\n\n        var c = new THREE.Vector3();\n        geometry.computeBoundingBox();\n        geometry.boundingBox.getCenter( c );\n        geometry.translate( -c.x, -c.y, -c.z );\n\n        var gridColor = options.theme === 'dark' ? 'white' : 'black';\n        var linewidth = json.linewidth || 1;\n        var materialOptions = { color: gridColor, linewidth: linewidth };\n\n        var mesh;\n        if ( linewidth > 1 && window.createFatLineSegments ) {\n            mesh = createFatLineSegments( geometry, materialOptions );\n        } else {\n            var material = new THREE.LineBasicMaterial( materialOptions );\n            mesh = new THREE.LineSegments( geometry, material );\n        }\n\n        mesh.position.set( c.x, c.y, c.z );\n        mesh.userData = json;\n        scene.add( mesh );\n\n    }\n\n    function render() {\n\n        if ( window.updateAnimation ) animate = updateAnimation();\n        if ( animate ) requestAnimationFrame( render );\n\n        renderer.render( scene, camera );\n\n    }\n\n    render();\n    controls.update();\n    if ( !animate ) render();\n\n\n    // menu functions\n\n    function toggleMenu() {\n\n        var m = document.getElementById( 'menu-content' );\n        if ( m.style.display === 'block' ) m.style.display = 'none'\n        else m.style.display = 'block';\n\n    }\n\n\n    function saveAsPNG() {\n\n        var a = document.body.appendChild( document.createElement( 'a' ) );\n        a.href = renderer.domElement.toDataURL( 'image/png' );\n        a.download = 'screenshot';\n        a.click();\n\n    }\n\n    function saveAsHTML() {\n\n        toggleMenu(); // otherwise visible in output\n        event.stopPropagation();\n\n        var blob = new Blob( [ '<!DOCTYPE html>\\n' + document.documentElement.outerHTML ] );\n        var a = document.body.appendChild( document.createElement( 'a' ) );\n        a.href = window.URL.createObjectURL( blob );\n        a.download = suggestFilename();\n        a.click();\n\n        function suggestFilename() {\n            if ( !document.title ) {\n                return 'graphic.html';\n            } else if ( /\\.html?$/i.test( document.title ) ) {\n                return document.title; // already ends in .htm or .html\n            } else {\n                return document.title + '.html';\n            }\n        }\n\n    }\n\n    function getViewpoint() {\n\n        function roundTo( x, n ) { return +x.toFixed(n); }\n\n        var v = camera.quaternion.inverse();\n        var r = Math.sqrt( v.x*v.x + v.y*v.y + v.z*v.z );\n        var axis = [ roundTo( v.x / r, 4 ), roundTo( v.y / r, 4 ), roundTo( v.z / r, 4 ) ];\n        var angle = roundTo( 2 * Math.atan2( r, v.w ) * 180 / Math.PI, 2 );\n\n        var textArea = document.createElement( 'textarea' );\n        textArea.textContent = JSON.stringify( axis ) + ',' + angle;\n        textArea.style.csstext = 'position: absolute; top: -100%';\n        document.body.append( textArea );\n        textArea.select();\n        document.execCommand( 'copy' );\n\n        var m = document.getElementById( 'menu-message' );\n        m.innerHTML = 'Viewpoint copied to clipboard';\n        m.style.display = 'block';\n        setTimeout( function() { m.style.display = 'none'; }, 2000 );\n\n    }\n\n    function getCamera() {\n\n        function roundTo( x, n ) { return +x.toFixed(n); }\n\n        var pos = camera.position;\n        var pos_r = [ roundTo( pos.x, 4 ), roundTo( pos.y, 4 ), roundTo( pos.z, 4 ) ];\n   //     var up = camera.up; // up is always (0,0,1)\n        var textArea = document.createElement('textarea');\n        var cam_position = JSON.stringify(pos_r);\n        textArea.textContent = ',camera_position=' + cam_position;\n        textArea.style.csstext = 'position: absolute; top: -100%';\n        document.body.append( textArea );\n        textArea.select();\n        document.execCommand( 'copy' );\n\n        var m = document.getElementById( 'menu-message' );\n        m.innerHTML = 'Camera position '+ cam_position+' copied to clipboard';\n        m.style.display = 'block';\n        setTimeout( function() { m.style.display = 'none'; }, 2000 );\n\n    }\n                                       \n</script>\n\n<div id=&quot;menu-container&quot; onclick=&quot;toggleMenu()&quot;>&#x24d8;\n<div id=&quot;menu-message&quot;></div>\n<div id=&quot;menu-content&quot;>\n<div onclick=&quot;saveAsPNG()&quot;>Save as PNG</div>\n<div onclick=&quot;saveAsHTML()&quot;>Save as HTML</div>\n<div onclick=&quot;getCamera()&quot;>Get camera</div>\n<div onclick=&quot;getViewpoint()&quot;>Get viewpoint</div>\n<div>Close Menu</div>\n</div></div>\n\n\n</body>\n</html>\n\"\n        width=\"100%\"\n        height=\"400\"\n        style=\"border: 0;\">\n</iframe>\n",
      "text/plain": [
       "Graphics3d Object"
      ]
     },
     "execution_count": 19,
     "metadata": {
     },
     "output_type": "execute_result"
    }
   ],
   "source": [
    "# See in visualize form\n",
    "P = plot(a)+plot(b)+plot(w,color = 'green')\n",
    "show(P,figsize=4)"
   ]
  },
  {
   "cell_type": "markdown",
   "metadata": {
    "collapsed": false
   },
   "source": [
    "**Orthogonal Projection of a vectors**"
   ]
  },
  {
   "cell_type": "code",
   "execution_count": 20,
   "metadata": {
    "collapsed": false
   },
   "outputs": [
    {
     "data": {
      "text/plain": [
       "((1, 2, -3), (1, -1, 1))"
      ]
     },
     "execution_count": 20,
     "metadata": {
     },
     "output_type": "execute_result"
    }
   ],
   "source": [
    "a,b"
   ]
  },
  {
   "cell_type": "markdown",
   "metadata": {
    "collapsed": false
   },
   "source": [
    "**Orthogonal projection of a noto b is $$\\frac{a.b}{||b||^2}*b$$"
   ]
  },
  {
   "cell_type": "code",
   "execution_count": 21,
   "metadata": {
    "collapsed": false
   },
   "outputs": [
    {
     "data": {
      "text/plain": [
       "(-4/3, 4/3, -4/3)"
      ]
     },
     "execution_count": 21,
     "metadata": {
     },
     "output_type": "execute_result"
    }
   ],
   "source": [
    "# Orthogonal projection of a onto b is given by\n",
    "a.dot_product(b)/norm(b)^2*b"
   ]
  },
  {
   "cell_type": "code",
   "execution_count": 22,
   "metadata": {
    "collapsed": false
   },
   "outputs": [
   ],
   "source": [
    "# Declare our own function to calculate the orthogonal function\n",
    "def orthogonal_projection(v,y):\n",
    "    return v.dot_product(u)/norm(u)^2*u"
   ]
  },
  {
   "cell_type": "code",
   "execution_count": 23,
   "metadata": {
    "collapsed": false
   },
   "outputs": [
    {
     "data": {
      "text/html": [
       "<html>\\[\\newcommand{\\Bold}[1]{\\mathbf{#1}}\\left(-\\frac{2}{7},\\,-\\frac{4}{7},\\,-\\frac{6}{7}\\right)\\]</html>"
      ],
      "text/latex": [
       "$$\\newcommand{\\Bold}[1]{\\mathbf{#1}}\\left(-\\frac{2}{7},\\,-\\frac{4}{7},\\,-\\frac{6}{7}\\right)$$"
      ],
      "text/plain": [
       "(-2/7, -4/7, -6/7)"
      ]
     },
     "execution_count": 23,
     "metadata": {
     },
     "output_type": "execute_result"
    }
   ],
   "source": [
    "p = orthogonal_projection(a,b)\n",
    "show(p)"
   ]
  },
  {
   "cell_type": "code",
   "execution_count": 24,
   "metadata": {
    "collapsed": false
   },
   "outputs": [
    {
     "data": {
      "text/plain": [
       "-24/7"
      ]
     },
     "execution_count": 24,
     "metadata": {
     },
     "output_type": "execute_result"
    }
   ],
   "source": [
    "# a-p is perpendicular to b\n",
    "b.dot_product(a-p)"
   ]
  },
  {
   "cell_type": "markdown",
   "metadata": {
    "collapsed": false
   },
   "source": [
    "**Scalar triple Product**"
   ]
  },
  {
   "cell_type": "code",
   "execution_count": 25,
   "metadata": {
    "collapsed": false
   },
   "outputs": [
    {
     "data": {
      "text/plain": [
       "((1, 2, -3), (1, -1, 1), (2, 1, -1))"
      ]
     },
     "execution_count": 25,
     "metadata": {
     },
     "output_type": "execute_result"
    }
   ],
   "source": [
    "a,b,c"
   ]
  },
  {
   "cell_type": "code",
   "execution_count": 26,
   "metadata": {
    "collapsed": false
   },
   "outputs": [
    {
     "data": {
      "text/plain": [
       "-3"
      ]
     },
     "execution_count": 26,
     "metadata": {
     },
     "output_type": "execute_result"
    }
   ],
   "source": [
    "# a.bxc\n",
    "a.dot_product(b.cross_product(c))"
   ]
  },
  {
   "cell_type": "markdown",
   "metadata": {
    "collapsed": false
   },
   "source": [
    "**Vector Triple product**"
   ]
  },
  {
   "cell_type": "code",
   "execution_count": 27,
   "metadata": {
    "collapsed": false
   },
   "outputs": [
    {
     "data": {
      "text/plain": [
       "(15, -3, 3)"
      ]
     },
     "execution_count": 27,
     "metadata": {
     },
     "output_type": "execute_result"
    }
   ],
   "source": [
    "# axbxc\n",
    "a.cross_product(b.cross_product(c))"
   ]
  },
  {
   "cell_type": "markdown",
   "metadata": {
    "collapsed": false
   },
   "source": [
    "**Plot of the parallelopiped span by above three vectors**"
   ]
  },
  {
   "cell_type": "code",
   "execution_count": 28,
   "metadata": {
    "collapsed": false
   },
   "outputs": [
   ],
   "source": [
    "def plot_parallelopiped(a,b,c):\n",
    "    p = plot(a,color='red')+plot(b,color='green')+plot(c,color='blue')\n",
    "    p = p+line3d([a,a+b],color='black')\n",
    "    p = p+line3d([b,a+b],color='black')\n",
    "    p = p+line3d([a,a+c],color='black')\n",
    "    p = p+line3d([c,a+c],color='black')\n",
    "    p = p+line3d([b,b+c],color='black')\n",
    "    p = p+line3d([c,b+c],color='black')\n",
    "    p = p+line3d([a+b,a+b+c],color='black')\n",
    "    p = p+line3d([a+c,a+b+c],color='black')\n",
    "    p = p+line3d([b+c,a+b+c],color='black')\n",
    "    return show(p,frame=False,aspect_ratio = 'automatic')\n"
   ]
  },
  {
   "cell_type": "code",
   "execution_count": 29,
   "metadata": {
    "collapsed": false
   },
   "outputs": [
   ],
   "source": [
    "# take a vectors\n",
    "a = vector([2,9,1])\n",
    "b = vector([1,1,0])\n",
    "c = vector([4,-1,3])"
   ]
  },
  {
   "cell_type": "code",
   "execution_count": 30,
   "metadata": {
    "collapsed": false
   },
   "outputs": [
    {
     "data": {
      "text/html": "\n<iframe srcdoc=\"<!DOCTYPE html>\n<html>\n<head>\n<title></title>\n<meta charset=&quot;utf-8&quot;>\n<meta name=viewport content=&quot;width=device-width, user-scalable=no, minimum-scale=1.0, maximum-scale=1.0&quot;>\n<style>\n\n    body { margin: 0px; overflow: hidden; }\n\n    #menu-container { position: absolute; bottom: 30px; right: 40px; cursor: default; }\n\n    #menu-message { position: absolute; bottom: 0px; right: 0px; white-space: nowrap;\n                    display: none; background-color: #F5F5F5; padding: 10px; }\n\n    #menu-content { position: absolute; bottom: 0px; right: 0px;\n                    display: none; background-color: #F5F5F5; border-bottom: 1px solid black;\n                    border-right: 1px solid black; border-left: 1px solid black; }\n\n    #menu-content div { border-top: 1px solid black; padding: 10px; white-space: nowrap; }\n\n    #menu-content div:hover { background-color: #FEFEFE; }\n\n    .dark-theme #menu-container { color: white; }\n\n    .dark-theme #menu-message { background-color: #181818; }\n\n    .dark-theme #menu-content { background-color: #181818; border-color: white; }\n\n    .dark-theme #menu-content div { border-color: white; }\n\n    .dark-theme #menu-content div:hover { background-color: #303030; }\n\n</style>\n\n</head>\n\n<body>\n\n<script src=&quot;/nbextensions/threejs-sage/r122/three.min.js&quot;></script>\n<script>\n  if ( !window.THREE ) document.write(' \\\n<script src=&quot;https://cdn.jsdelivr.net/gh/sagemath/threejs-sage@r122/build/three.min.js&quot;><\\/script> \\\n            ');\n</script>\n        \n<script>\n\n    var options = {&quot;animate&quot;: false, &quot;animationControls&quot;: true, &quot;aspectRatio&quot;: [1.0, 1.0, 1.0], &quot;autoPlay&quot;: true, &quot;axes&quot;: false, &quot;axesLabels&quot;: false, &quot;axesLabelsStyle&quot;: null, &quot;decimals&quot;: 2, &quot;delay&quot;: 20, &quot;frame&quot;: false, &quot;loop&quot;: true, &quot;projection&quot;: &quot;perspective&quot;, &quot;theme&quot;: &quot;light&quot;, &quot;viewpoint&quot;: false};\n    var animate = options.animate;\n\n    if ( options.theme === 'dark' )\n        document.body.className = 'dark-theme';\n\n    var scene = new THREE.Scene();\n\n    var renderer = new THREE.WebGLRenderer( { antialias: true, preserveDrawingBuffer: true } );\n    renderer.setPixelRatio( window.devicePixelRatio );\n    renderer.setSize( window.innerWidth, window.innerHeight );\n    renderer.setClearColor( options.theme === 'dark' ? 0 : 0xffffff, 1 );\n    document.body.appendChild( renderer.domElement );\n\n    var b = [{&quot;x&quot;:0.0, &quot;y&quot;:-1.0, &quot;z&quot;:0.0}, {&quot;x&quot;:7.0, &quot;y&quot;:10.0, &quot;z&quot;:4.0}]; // bounds\n\n    if ( b[0].x === b[1].x ) {\n        b[0].x -= 1;\n        b[1].x += 1;\n    }\n    if ( b[0].y === b[1].y ) {\n        b[0].y -= 1;\n        b[1].y += 1;\n    }\n    if ( b[0].z === b[1].z ) {\n        b[0].z -= 1;\n        b[1].z += 1;\n    }\n\n    var rRange = Math.sqrt( Math.pow( b[1].x - b[0].x, 2 )\n                            + Math.pow( b[1].y - b[0].y, 2 ) );\n    var xRange = b[1].x - b[0].x;\n    var yRange = b[1].y - b[0].y;\n    var zRange = b[1].z - b[0].z;\n\n    var ar = options.aspectRatio;\n    var a = [ ar[0], ar[1], ar[2] ]; // aspect multipliers\n    var autoAspect = 2.5;\n    if ( zRange > autoAspect * rRange && a[2] === 1 ) a[2] = autoAspect * rRange / zRange;\n\n    // Distance from (xMid,yMid,zMid) to any corner of the bounding box, after applying aspectRatio\n    var midToCorner = Math.sqrt( a[0]*a[0]*xRange*xRange + a[1]*a[1]*yRange*yRange + a[2]*a[2]*zRange*zRange ) / 2;\n\n    var xMid = ( b[0].x + b[1].x ) / 2;\n    var yMid = ( b[0].y + b[1].y ) / 2;\n    var zMid = ( b[0].z + b[1].z ) / 2;\n\n    var box = new THREE.Geometry();\n    box.vertices.push( new THREE.Vector3( a[0]*b[0].x, a[1]*b[0].y, a[2]*b[0].z ) );\n    box.vertices.push( new THREE.Vector3( a[0]*b[1].x, a[1]*b[1].y, a[2]*b[1].z ) );\n    var boxMesh = new THREE.Line( box );\n    var boxColor = options.theme === 'dark' ? 'white' : 'black';\n    if ( options.frame ) scene.add( new THREE.BoxHelper( boxMesh, boxColor ) );\n\n    if ( options.axesLabels ) {\n\n        var d = options.decimals; // decimals\n        var offsetRatio = 0.1;\n        var al = options.axesLabels;\n        var als = options.axesLabelsStyle || [{}, {}, {}];\n\n        var offset = offsetRatio * a[1]*( b[1].y - b[0].y );\n        var xm = xMid.toFixed(d);\n        if ( /^-0.?0*$/.test(xm) ) xm = xm.substr(1);\n        addLabel( al[0] + '=' + xm, a[0]*xMid, a[1]*b[1].y+offset, a[2]*b[0].z, als[0] );\n        addLabel( ( b[0].x ).toFixed(d), a[0]*b[0].x, a[1]*b[1].y+offset, a[2]*b[0].z, als[0] );\n        addLabel( ( b[1].x ).toFixed(d), a[0]*b[1].x, a[1]*b[1].y+offset, a[2]*b[0].z, als[0] );\n\n        var offset = offsetRatio * a[0]*( b[1].x - b[0].x );\n        var ym = yMid.toFixed(d);\n        if ( /^-0.?0*$/.test(ym) ) ym = ym.substr(1);\n        addLabel( al[1] + '=' + ym, a[0]*b[1].x+offset, a[1]*yMid, a[2]*b[0].z, als[1] );\n        addLabel( ( b[0].y ).toFixed(d), a[0]*b[1].x+offset, a[1]*b[0].y, a[2]*b[0].z, als[1] );\n        addLabel( ( b[1].y ).toFixed(d), a[0]*b[1].x+offset, a[1]*b[1].y, a[2]*b[0].z, als[1] );\n\n        var offset = offsetRatio * a[1]*( b[1].y - b[0].y );\n        var zm = zMid.toFixed(d);\n        if ( /^-0.?0*$/.test(zm) ) zm = zm.substr(1);\n        addLabel( al[2] + '=' + zm, a[0]*b[1].x, a[1]*b[0].y-offset, a[2]*zMid, als[2] );\n        addLabel( ( b[0].z ).toFixed(d), a[0]*b[1].x, a[1]*b[0].y-offset, a[2]*b[0].z, als[2] );\n        addLabel( ( b[1].z ).toFixed(d), a[0]*b[1].x, a[1]*b[0].y-offset, a[2]*b[1].z, als[2] );\n\n    }\n\n    function addLabel( text, x, y, z, style ) {\n\n        var color = style.color || 'black';\n        var fontSize = style.fontSize || 14;\n        var fontFamily = style.fontFamily || 'monospace';\n        var fontStyle = style.fontStyle || 'normal';\n        var fontWeight = style.fontWeight || 'normal';\n        var opacity = style.opacity || 1;\n\n        if ( options.theme === 'dark' )\n            if ( color === 'black' || color === '#000000' )\n                color = 'white';\n\n        if ( Array.isArray( fontStyle ) ) {\n            fontFamily = fontFamily.map( function( f ) {\n                // Need to put quotes around fonts that have whitespace in their names.\n                return /\\s/.test( f ) ? '&quot;' + f + '&quot;' : f;\n            }).join(', ');\n        }\n\n        var canvas = document.createElement( 'canvas' );\n        var context = canvas.getContext( '2d' );\n        var pixelRatio = Math.round( window.devicePixelRatio );\n\n        // For example: italic bold 20px &quot;Times New Roman&quot;, Georgia, serif\n        var font = [fontStyle, fontWeight, fontSize + 'px', fontFamily].join(' ');\n\n        context.font = font;\n        var width = context.measureText( text ).width;\n        var height = fontSize;\n\n        // The dimensions of the canvas's underlying image data need to be powers\n        // of two in order for the resulting texture to support mipmapping.\n        canvas.width = THREE.MathUtils.ceilPowerOfTwo( width * pixelRatio );\n        canvas.height = THREE.MathUtils.ceilPowerOfTwo( height * pixelRatio );\n\n        // Re-compute the unscaled dimensions after the power of two conversion.\n        width = canvas.width / pixelRatio;\n        height = canvas.height / pixelRatio;\n\n        canvas.style.width = width + 'px';\n        canvas.style.height = height + 'px';\n\n        context.scale( pixelRatio, pixelRatio );\n        context.fillStyle = color;\n        context.font = font; // Must be set again after measureText.\n        context.textAlign = 'center';\n        context.textBaseline = 'middle';\n        context.fillText( text, width/2, height/2 );\n\n        var texture = new THREE.Texture( canvas );\n        texture.needsUpdate = true;\n\n        var materialOptions = { map: texture, sizeAttenuation: false, depthWrite: false };\n        if ( opacity < 1 ) {\n            // Setting opacity=1 would cause the texture's alpha component to be\n            // discarded, giving the text a black background instead of the\n            // background being transparent.\n            materialOptions.opacity = opacity;\n        }\n        var sprite = new THREE.Sprite( new THREE.SpriteMaterial( materialOptions ) );\n        sprite.position.set( x, y, z );\n\n        // Scaling factor, chosen somewhat arbitrarily so that the size of the text\n        // is consistent with previously generated plots.\n        var scale = 1/625;\n        if ( options.projection === 'orthographic' ) {\n            scale = midToCorner/256; // Needs to scale along with the plot itself.\n        }\n        sprite.scale.set( scale * width, scale * height, 1 );\n\n        scene.add( sprite );\n\n        return sprite;\n\n    }\n\n    if ( options.axes ) scene.add( new THREE.AxesHelper( Math.min( a[0]*b[1].x, a[1]*b[1].y, a[2]*b[1].z ) ) );\n\n    var camera = createCamera();\n    camera.up.set( 0, 0, 1 );\n    camera.position.set( a[0]*xMid, a[1]*yMid, a[2]*zMid );\n\n    var offset = new THREE.Vector3( a[0]*xRange, a[1]*yRange, a[2]*zRange );\n\n    if ( options.viewpoint ) {\n\n        var aa = options.viewpoint;\n        var axis = new THREE.Vector3( aa[0][0], aa[0][1], aa[0][2] ).normalize();\n        var angle = aa[1] * Math.PI / 180;\n        var q = new THREE.Quaternion().setFromAxisAngle( axis, angle ).inverse();\n\n        offset.set( 0, 0, offset.length() );\n        offset.applyQuaternion( q );\n\n    }\n\n    camera.position.add( offset );\n\n    function createCamera() {\n\n        var aspect = window.innerWidth / window.innerHeight;\n\n        // Scale the near and far clipping planes along with the overall plot size.\n        var nearClip = 0.01 * midToCorner;\n        var farClip = 100 * midToCorner;\n\n        if ( options.projection === 'orthographic' ) {\n            var camera = new THREE.OrthographicCamera( -1, 1, 1, -1, -farClip, farClip );\n            updateCameraAspect( camera, aspect );\n            return camera;\n        }\n\n        return new THREE.PerspectiveCamera( 45, aspect, nearClip, farClip );\n\n    }\n\n    function updateCameraAspect( camera, aspect ) {\n\n        if ( camera.isPerspectiveCamera ) {\n            camera.aspect = aspect;\n        } else if ( camera.isOrthographicCamera ) {\n            // Fit the camera frustum to the bounding box's diagonal so that the entire plot fits\n            // within at the default zoom level and camera position.\n            if ( aspect > 1 ) { // Wide window\n                camera.top = midToCorner;\n                camera.right = midToCorner * aspect;\n            } else { // Tall or square window\n                camera.top = midToCorner / aspect;\n                camera.right = midToCorner;\n            }\n            camera.bottom = -camera.top;\n            camera.left = -camera.right;\n        }\n\n        camera.updateProjectionMatrix();\n\n    }\n\n    var lights = [{&quot;x&quot;:-5, &quot;y&quot;:3, &quot;z&quot;:0, &quot;color&quot;:&quot;#7f7f7f&quot;, &quot;parent&quot;:&quot;camera&quot;}];\n    for ( var i=0 ; i < lights.length ; i++ ) {\n        var light = new THREE.DirectionalLight( lights[i].color, 1 );\n        light.position.set( a[0]*lights[i].x, a[1]*lights[i].y, a[2]*lights[i].z );\n        if ( lights[i].parent === 'camera' ) {\n            light.target.position.set( a[0]*xMid, a[1]*yMid, a[2]*zMid );\n            scene.add( light.target );\n            camera.add( light );\n        } else scene.add( light );\n    }\n    scene.add( camera );\n\n    var ambient = {&quot;color&quot;:&quot;#7f7f7f&quot;};\n    scene.add( new THREE.AmbientLight( ambient.color, 1 ) );\n\n    var controls = new THREE.OrbitControls( camera, renderer.domElement );\n    controls.target.set( a[0]*xMid, a[1]*yMid, a[2]*zMid );\n    controls.addEventListener( 'change', function() { if ( !animate ) render(); } );\n\n    window.addEventListener( 'resize', function() {\n\n        renderer.setSize( window.innerWidth, window.innerHeight );\n        updateCameraAspect( camera, window.innerWidth / window.innerHeight );\n        if ( window.rescaleFatLines ) rescaleFatLines();\n        if ( !animate ) render();\n\n    } );\n\n    var texts = [];\n    for ( var i=0 ; i < texts.length ; i++ ) addText( texts[i] );\n\n    function addText( json ) {\n        var sprite = addLabel( json.text, a[0]*json.x, a[1]*json.y, a[2]*json.z, json );\n        sprite.userData = json;\n    }\n\n    var points = [];\n    for ( var i=0 ; i < points.length ; i++ ) addPoint( points[i] );\n\n    function addPoint( json ) {\n\n        var geometry = new THREE.Geometry();\n        var v = json.point;\n        geometry.vertices.push( new THREE.Vector3( a[0]*v[0], a[1]*v[1], a[2]*v[2] ) );\n\n        var canvas = document.createElement( 'canvas' );\n        canvas.width = 128;\n        canvas.height = 128;\n\n        var context = canvas.getContext( '2d' );\n        context.arc( 64, 64, 64, 0, 2 * Math.PI );\n        context.fillStyle = json.color;\n        context.fill();\n\n        var texture = new THREE.Texture( canvas );\n        texture.needsUpdate = true;\n\n        var transparent = json.opacity < 1 ? true : false;\n        var size = camera.isOrthographicCamera ? json.size : json.size/100;\n        var material = new THREE.PointsMaterial( { size: size, map: texture,\n                                                   transparent: transparent, opacity: json.opacity,\n                                                   alphaTest: .1 } );\n\n        var c = new THREE.Vector3();\n        geometry.computeBoundingBox();\n        geometry.boundingBox.getCenter( c );\n        geometry.translate( -c.x, -c.y, -c.z );\n\n        var mesh = new THREE.Points( geometry, material );\n        mesh.position.set( c.x, c.y, c.z );\n        mesh.userData = json;\n        scene.add( mesh );\n\n    }\n\n    var lines = [{&quot;points&quot;: [[2.0, 9.0, 1.0], [3.0, 10.0, 1.0]], &quot;color&quot;: &quot;#000000&quot;, &quot;opacity&quot;: 1.0, &quot;linewidth&quot;: 1.0}, {&quot;points&quot;: [[1.0, 1.0, 0.0], [3.0, 10.0, 1.0]], &quot;color&quot;: &quot;#000000&quot;, &quot;opacity&quot;: 1.0, &quot;linewidth&quot;: 1.0}, {&quot;points&quot;: [[2.0, 9.0, 1.0], [6.0, 8.0, 4.0]], &quot;color&quot;: &quot;#000000&quot;, &quot;opacity&quot;: 1.0, &quot;linewidth&quot;: 1.0}, {&quot;points&quot;: [[4.0, -1.0, 3.0], [6.0, 8.0, 4.0]], &quot;color&quot;: &quot;#000000&quot;, &quot;opacity&quot;: 1.0, &quot;linewidth&quot;: 1.0}, {&quot;points&quot;: [[1.0, 1.0, 0.0], [5.0, 0.0, 3.0]], &quot;color&quot;: &quot;#000000&quot;, &quot;opacity&quot;: 1.0, &quot;linewidth&quot;: 1.0}, {&quot;points&quot;: [[4.0, -1.0, 3.0], [5.0, 0.0, 3.0]], &quot;color&quot;: &quot;#000000&quot;, &quot;opacity&quot;: 1.0, &quot;linewidth&quot;: 1.0}, {&quot;points&quot;: [[3.0, 10.0, 1.0], [7.0, 9.0, 4.0]], &quot;color&quot;: &quot;#000000&quot;, &quot;opacity&quot;: 1.0, &quot;linewidth&quot;: 1.0}, {&quot;points&quot;: [[6.0, 8.0, 4.0], [7.0, 9.0, 4.0]], &quot;color&quot;: &quot;#000000&quot;, &quot;opacity&quot;: 1.0, &quot;linewidth&quot;: 1.0}, {&quot;points&quot;: [[5.0, 0.0, 3.0], [7.0, 9.0, 4.0]], &quot;color&quot;: &quot;#000000&quot;, &quot;opacity&quot;: 1.0, &quot;linewidth&quot;: 1.0}];\n    for ( var i=0 ; i < lines.length ; i++ ) addLine( lines[i] );\n\n    function addLine( json ) {\n\n        var geometry = new THREE.Geometry();\n        for ( var i=0 ; i < json.points.length ; i++ ) {\n            var v = json.points[i];\n            geometry.vertices.push( new THREE.Vector3( a[0]*v[0], a[1]*v[1], a[2]*v[2] ) );\n        }\n\n        var c = new THREE.Vector3();\n        geometry.computeBoundingBox();\n        geometry.boundingBox.getCenter( c );\n        geometry.translate( -c.x, -c.y, -c.z );\n\n        var transparent = json.opacity < 1 ? true : false;\n        var materialOptions = { color: json.color, linewidth: json.linewidth,\n                                transparent: transparent, opacity: json.opacity };\n\n        var mesh;\n        if ( json.linewidth > 1 && window.createFatLineStrip ) {\n            mesh = createFatLineStrip( geometry, materialOptions );\n        } else {\n            var material = new THREE.LineBasicMaterial( materialOptions );\n            mesh = new THREE.Line( geometry, material );\n        }\n\n        mesh.position.set( c.x, c.y, c.z );\n        mesh.userData = json;\n        scene.add( mesh );\n\n    }\n\n    var surfaces = [{&quot;vertices&quot;: [{&quot;x&quot;: 1.980590100823381, &quot;y&quot;: 8.912655453705217, &quot;z&quot;: 0.9902950504116899}, {&quot;x&quot;: 1.9891175468278666, &quot;y&quot;: 8.91132158743587, &quot;z&quot;: 0.9852449548268439}, {&quot;x&quot;: 1.9787008055195765, &quot;y&quot;: 8.914153624838097, &quot;z&quot;: 0.9805901008233804}, {&quot;x&quot;: 1.987749647595187, &quot;y&quot;: 8.910332907881433, &quot;z&quot;: 0.9968788692821288}, {&quot;x&quot;: 1.9764874980679161, &quot;y&quot;: 8.912553907715036, &quot;z&quot;: 0.9994141698342399}, {&quot;x&quot;: 1.9708950061063588, &quot;y&quot;: 8.914915240655647, &quot;z&quot;: 0.9893471572918563}, {&quot;x&quot;: 0.008527446004485597, &quot;y&quot;: -0.0013338662693472526, &quot;z&quot;: -0.005050095584845923}, {&quot;x&quot;: -0.0018892953038044836, &quot;y&quot;: 0.0014981711328798243, &quot;z&quot;: -0.00970494958830946}, {&quot;x&quot;: 0.0071595467718060714, &quot;y&quot;: -0.0023225458237834482, &quot;z&quot;: 0.006583818870438898}, {&quot;x&quot;: -0.004102602755464857, &quot;y&quot;: -0.00010154599018004254, &quot;z&quot;: 0.009119119422550104}, {&quot;x&quot;: -0.009695094717022327, &quot;y&quot;: 0.002259786950430919, &quot;z&quot;: -0.00094789311983362}, {&quot;x&quot;: 0.0, &quot;y&quot;: 0.0, &quot;z&quot;: 0.0}], &quot;faces&quot;: [[0, 1, 2], [0, 3, 1], [0, 4, 3], [0, 5, 4], [0, 2, 5], [2, 1, 6, 7], [1, 3, 8, 6], [3, 4, 9, 8], [4, 5, 10, 9], [5, 2, 7, 10], [7, 6, 11], [6, 8, 11], [8, 9, 11], [9, 10, 11], [10, 7, 11]], &quot;color&quot;: &quot;#ff0000&quot;, &quot;opacity&quot;: 1.0}, {&quot;vertices&quot;: [{&quot;x&quot;: 2.0, &quot;y&quot;: 9.000000000000002, &quot;z&quot;: 0.9999999999999993}, {&quot;x&quot;: 2.006172438836838, &quot;y&quot;: 8.908653854897175, &quot;z&quot;: 0.9751447636571521}, {&quot;x&quot;: 1.9749222149119676, &quot;y&quot;: 8.917149967103857, &quot;z&quot;: 0.9611802016467614}, {&quot;x&quot;: 2.002068741138799, &quot;y&quot;: 8.905687816233867, &quot;z&quot;: 1.0100465070230065}, {&quot;x&quot;: 1.9682822925569865, &quot;y&quot;: 8.912350815734676, &quot;z&quot;: 1.0176524086793401}, {&quot;x&quot;: 1.9515048166723141, &quot;y&quot;: 8.91943481455651, &quot;z&quot;: 0.987451371052189}, {&quot;x&quot;: 1.980590100823381, &quot;y&quot;: 8.912655453705217, &quot;z&quot;: 0.9902950504116899}], &quot;faces&quot;: [[0, 1, 2], [0, 3, 1], [0, 4, 3], [0, 5, 4], [0, 2, 5], [2, 1, 6], [1, 3, 6], [3, 4, 6], [4, 5, 6], [5, 2, 6]], &quot;color&quot;: &quot;#ff0000&quot;, &quot;opacity&quot;: 1.0}, {&quot;vertices&quot;: [{&quot;x&quot;: 0.9363603896932107, &quot;y&quot;: 0.9363603896932107, &quot;z&quot;: 8.108469502738624e-17}, {&quot;x&quot;: 0.9395705873028117, &quot;y&quot;: 0.9331501920836096, &quot;z&quot;: -0.008910065241883596}, {&quot;x&quot;: 0.9313603896932107, &quot;y&quot;: 0.9413603896932107, &quot;z&quot;: -0.007071067811865394}, {&quot;x&quot;: 0.9433444009265478, &quot;y&quot;: 0.9293763784598735, &quot;z&quot;: 0.0015643446504023891}, {&quot;x&quot;: 0.9374665484036231, &quot;y&quot;: 0.9352542309827983, &quot;z&quot;: 0.009876883405951458}, {&quot;x&quot;: 0.9300600221398602, &quot;y&quot;: 0.9426607572465612, &quot;z&quot;: 0.00453990499739555}, {&quot;x&quot;: 0.0032101976096010304, &quot;y&quot;: -0.0032101976096010295, &quot;z&quot;: -0.008910065241883678}, {&quot;x&quot;: -0.004999999999999998, &quot;y&quot;: 0.004999999999999999, &quot;z&quot;: -0.0070710678118654745}, {&quot;x&quot;: 0.0069840112333371005, &quot;y&quot;: -0.006984011233337101, &quot;z&quot;: 0.001564344650402308}, {&quot;x&quot;: 0.0011061587104123716, &quot;y&quot;: -0.0011061587104123725, &quot;z&quot;: 0.009876883405951376}, {&quot;x&quot;: -0.006300367553350503, &quot;y&quot;: 0.006300367553350502, &quot;z&quot;: 0.004539904997395469}, {&quot;x&quot;: 0.0, &quot;y&quot;: 0.0, &quot;z&quot;: 0.0}], &quot;faces&quot;: [[0, 1, 2], [0, 3, 1], [0, 4, 3], [0, 5, 4], [0, 2, 5], [2, 1, 6, 7], [1, 3, 8, 6], [3, 4, 9, 8], [4, 5, 10, 9], [5, 2, 7, 10], [7, 6, 11], [6, 8, 11], [8, 9, 11], [9, 10, 11], [10, 7, 11]], &quot;color&quot;: &quot;#008000&quot;, &quot;opacity&quot;: 1.0}, {&quot;vertices&quot;: [{&quot;x&quot;: 1.0, &quot;y&quot;: 1.0, &quot;z&quot;: 8.659560562354933e-17}, {&quot;x&quot;: 0.9459909825220137, &quot;y&quot;: 0.9267297968644076, &quot;z&quot;: -0.02673019572565095}, {&quot;x&quot;: 0.9213603896932107, &quot;y&quot;: 0.9513603896932107, &quot;z&quot;: -0.021213203435596344}, {&quot;x&quot;: 0.957312423393222, &quot;y&quot;: 0.9154083559931994, &quot;z&quot;: 0.004693033951207002}, {&quot;x&quot;: 0.9396788658244478, &quot;y&quot;: 0.9330419135619735, &quot;z&quot;: 0.029630650217854212}, {&quot;x&quot;: 0.9174592870331592, &quot;y&quot;: 0.9552614923532622, &quot;z&quot;: 0.013619714992186489}, {&quot;x&quot;: 0.9363603896932107, &quot;y&quot;: 0.9363603896932107, &quot;z&quot;: 8.108469502738624e-17}], &quot;faces&quot;: [[0, 1, 2], [0, 3, 1], [0, 4, 3], [0, 5, 4], [0, 2, 5], [2, 1, 6], [1, 3, 6], [3, 4, 6], [4, 5, 6], [5, 2, 6]], &quot;color&quot;: &quot;#008000&quot;, &quot;opacity&quot;: 1.0}, {&quot;vertices&quot;: [{&quot;x&quot;: 3.9293981913502534, &quot;y&quot;: -0.9823495478375633, &quot;z&quot;: 2.9470486435126904}, {&quot;x&quot;: 3.9355233250134245, &quot;y&quot;: -0.9784130200188688, &quot;z&quot;: 2.940193974568027}, {&quot;x&quot;: 3.9303667833375133, &quot;y&quot;: -0.9725916958343783, &quot;z&quot;: 2.949009804864072}, {&quot;x&quot;: 3.9322151401524694, &quot;y&quot;: -0.9896744918511357, &quot;z&quot;: 2.9408510637718783}, {&quot;x&quot;: 3.92501402779142, &quot;y&quot;: -0.9908131400223357, &quot;z&quot;: 2.950072997529544}, {&quot;x&quot;: 3.9238716804564397, &quot;y&quot;: -0.9802553914610983, &quot;z&quot;: 2.9551153768299305}, {&quot;x&quot;: 0.006125133663171126, &quot;y&quot;: 0.003936527818694577, &quot;z&quot;: -0.006854668944663308}, {&quot;x&quot;: 0.0009685919872598772, &quot;y&quot;: 0.009757852003185031, &quot;z&quot;: 0.00196116135138184}, {&quot;x&quot;: 0.0028169488022160294, &quot;y&quot;: -0.007324944013572297, &quot;z&quot;: -0.006197579740812137}, {&quot;x&quot;: -0.004384163558833315, &quot;y&quot;: -0.008463592184772328, &quot;z&quot;: 0.0030243540168536425}, {&quot;x&quot;: -0.005526510893813717, &quot;y&quot;: 0.0020941563764650174, &quot;z&quot;: 0.00806673331723996}, {&quot;x&quot;: 0.0, &quot;y&quot;: 0.0, &quot;z&quot;: 0.0}], &quot;faces&quot;: [[0, 1, 2], [0, 3, 1], [0, 4, 3], [0, 5, 4], [0, 2, 5], [2, 1, 6, 7], [1, 3, 8, 6], [3, 4, 9, 8], [4, 5, 10, 9], [5, 2, 7, 10], [7, 6, 11], [6, 8, 11], [8, 9, 11], [9, 10, 11], [10, 7, 11]], &quot;color&quot;: &quot;#0000ff&quot;, &quot;opacity&quot;: 1.0}, {&quot;vertices&quot;: [{&quot;x&quot;: 3.9999999999999996, &quot;y&quot;: -0.9999999999999999, &quot;z&quot;: 3.0}, {&quot;x&quot;: 3.9477735923397668, &quot;y&quot;: -0.9705399643814796, &quot;z&quot;: 2.9264846366787003}, {&quot;x&quot;: 3.932303967312033, &quot;y&quot;: -0.9530759918280083, &quot;z&quot;: 2.952932127566836}, {&quot;x&quot;: 3.9378490377569015, &quot;y&quot;: -1.0043243798782802, &quot;z&quot;: 2.928455904290254}, {&quot;x&quot;: 3.916245700673753, &quot;y&quot;: -1.0077403243918803, &quot;z&quot;: 2.9561217055632514}, {&quot;x&quot;: 3.912818658668812, &quot;y&quot;: -0.9760670787081683, &quot;z&quot;: 2.9712488434644104}, {&quot;x&quot;: 3.9293981913502534, &quot;y&quot;: -0.9823495478375633, &quot;z&quot;: 2.9470486435126904}], &quot;faces&quot;: [[0, 1, 2], [0, 3, 1], [0, 4, 3], [0, 5, 4], [0, 2, 5], [2, 1, 6], [1, 3, 6], [3, 4, 6], [4, 5, 6], [5, 2, 6]], &quot;color&quot;: &quot;#0000ff&quot;, &quot;opacity&quot;: 1.0}];\n    for ( var i=0 ; i < surfaces.length ; i++ ) addSurface( surfaces[i] );\n\n    function addSurface( json ) {\n\n        var useFaceColors = 'faceColors' in json ? true : false;\n\n        var geometry = new THREE.Geometry();\n        for ( var i=0 ; i < json.vertices.length ; i++ ) {\n            var v = json.vertices[i];\n            geometry.vertices.push( new THREE.Vector3( a[0]*v.x, a[1]*v.y, a[2]*v.z ) );\n        }\n        for ( var i=0 ; i < json.faces.length ; i++ ) {\n            var f = json.faces[i];\n            for ( var j=0 ; j < f.length - 2 ; j++ ) {\n                var face = new THREE.Face3( f[0], f[j+1], f[j+2] );\n                if ( useFaceColors ) face.color.set( json.faceColors[i] );\n                geometry.faces.push( face );\n            }\n        }\n        geometry.computeVertexNormals();\n\n        var side = json.singleSide ? THREE.FrontSide : THREE.DoubleSide;\n        var transparent = json.opacity < 1 ? true : false;\n        var depthWrite = 'depthWrite' in json ? json.depthWrite : !transparent;\n        var flatShading = json.useFlatShading ? json.useFlatShading : false;\n\n        var material = new THREE.MeshPhongMaterial( { side: side,\n                                     color: useFaceColors ? 'white' : json.color,\n                                     vertexColors: useFaceColors ? THREE.FaceColors : THREE.NoColors,\n                                     transparent: transparent, opacity: json.opacity,\n                                     shininess: 20, flatShading: flatShading,\n                                     depthWrite: depthWrite } );\n\n        var c = new THREE.Vector3();\n        geometry.computeBoundingBox();\n        geometry.boundingBox.getCenter( c );\n        geometry.translate( -c.x, -c.y, -c.z );\n\n        var mesh = new THREE.Mesh( geometry, material );\n        mesh.position.set( c.x, c.y, c.z );\n        if ( transparent && json.renderOrder ) mesh.renderOrder = json.renderOrder;\n        mesh.userData = json;\n        scene.add( mesh );\n\n        if ( json.showMeshGrid ) addSurfaceMeshGrid( json );\n\n    }\n\n    function addSurfaceMeshGrid( json ) {\n\n        var geometry = new THREE.Geometry();\n\n        for ( var i=0 ; i < json.faces.length ; i++ ) {\n            var f = json.faces[i];\n            for ( var j=0 ; j < f.length ; j++ ) {\n                var k = j === f.length-1 ? 0 : j+1;\n                var v1 = json.vertices[f[j]];\n                var v2 = json.vertices[f[k]];\n                // vertices in opposite directions on neighboring faces\n                var nudge = f[j] < f[k] ? .0005*zRange : -.0005*zRange;\n                geometry.vertices.push( new THREE.Vector3( a[0]*v1.x, a[1]*v1.y, a[2]*(v1.z+nudge) ) );\n                geometry.vertices.push( new THREE.Vector3( a[0]*v2.x, a[1]*v2.y, a[2]*(v2.z+nudge) ) );\n            }\n        }\n\n        var c = new THREE.Vector3();\n        geometry.computeBoundingBox();\n        geometry.boundingBox.getCenter( c );\n        geometry.translate( -c.x, -c.y, -c.z );\n\n        var gridColor = options.theme === 'dark' ? 'white' : 'black';\n        var linewidth = json.linewidth || 1;\n        var materialOptions = { color: gridColor, linewidth: linewidth };\n\n        var mesh;\n        if ( linewidth > 1 && window.createFatLineSegments ) {\n            mesh = createFatLineSegments( geometry, materialOptions );\n        } else {\n            var material = new THREE.LineBasicMaterial( materialOptions );\n            mesh = new THREE.LineSegments( geometry, material );\n        }\n\n        mesh.position.set( c.x, c.y, c.z );\n        mesh.userData = json;\n        scene.add( mesh );\n\n    }\n\n    function render() {\n\n        if ( window.updateAnimation ) animate = updateAnimation();\n        if ( animate ) requestAnimationFrame( render );\n\n        renderer.render( scene, camera );\n\n    }\n\n    render();\n    controls.update();\n    if ( !animate ) render();\n\n\n    // menu functions\n\n    function toggleMenu() {\n\n        var m = document.getElementById( 'menu-content' );\n        if ( m.style.display === 'block' ) m.style.display = 'none'\n        else m.style.display = 'block';\n\n    }\n\n\n    function saveAsPNG() {\n\n        var a = document.body.appendChild( document.createElement( 'a' ) );\n        a.href = renderer.domElement.toDataURL( 'image/png' );\n        a.download = 'screenshot';\n        a.click();\n\n    }\n\n    function saveAsHTML() {\n\n        toggleMenu(); // otherwise visible in output\n        event.stopPropagation();\n\n        var blob = new Blob( [ '<!DOCTYPE html>\\n' + document.documentElement.outerHTML ] );\n        var a = document.body.appendChild( document.createElement( 'a' ) );\n        a.href = window.URL.createObjectURL( blob );\n        a.download = suggestFilename();\n        a.click();\n\n        function suggestFilename() {\n            if ( !document.title ) {\n                return 'graphic.html';\n            } else if ( /\\.html?$/i.test( document.title ) ) {\n                return document.title; // already ends in .htm or .html\n            } else {\n                return document.title + '.html';\n            }\n        }\n\n    }\n\n    function getViewpoint() {\n\n        function roundTo( x, n ) { return +x.toFixed(n); }\n\n        var v = camera.quaternion.inverse();\n        var r = Math.sqrt( v.x*v.x + v.y*v.y + v.z*v.z );\n        var axis = [ roundTo( v.x / r, 4 ), roundTo( v.y / r, 4 ), roundTo( v.z / r, 4 ) ];\n        var angle = roundTo( 2 * Math.atan2( r, v.w ) * 180 / Math.PI, 2 );\n\n        var textArea = document.createElement( 'textarea' );\n        textArea.textContent = JSON.stringify( axis ) + ',' + angle;\n        textArea.style.csstext = 'position: absolute; top: -100%';\n        document.body.append( textArea );\n        textArea.select();\n        document.execCommand( 'copy' );\n\n        var m = document.getElementById( 'menu-message' );\n        m.innerHTML = 'Viewpoint copied to clipboard';\n        m.style.display = 'block';\n        setTimeout( function() { m.style.display = 'none'; }, 2000 );\n\n    }\n\n    function getCamera() {\n\n        function roundTo( x, n ) { return +x.toFixed(n); }\n\n        var pos = camera.position;\n        var pos_r = [ roundTo( pos.x, 4 ), roundTo( pos.y, 4 ), roundTo( pos.z, 4 ) ];\n   //     var up = camera.up; // up is always (0,0,1)\n        var textArea = document.createElement('textarea');\n        var cam_position = JSON.stringify(pos_r);\n        textArea.textContent = ',camera_position=' + cam_position;\n        textArea.style.csstext = 'position: absolute; top: -100%';\n        document.body.append( textArea );\n        textArea.select();\n        document.execCommand( 'copy' );\n\n        var m = document.getElementById( 'menu-message' );\n        m.innerHTML = 'Camera position '+ cam_position+' copied to clipboard';\n        m.style.display = 'block';\n        setTimeout( function() { m.style.display = 'none'; }, 2000 );\n\n    }\n                                       \n</script>\n\n<div id=&quot;menu-container&quot; onclick=&quot;toggleMenu()&quot;>&#x24d8;\n<div id=&quot;menu-message&quot;></div>\n<div id=&quot;menu-content&quot;>\n<div onclick=&quot;saveAsPNG()&quot;>Save as PNG</div>\n<div onclick=&quot;saveAsHTML()&quot;>Save as HTML</div>\n<div onclick=&quot;getCamera()&quot;>Get camera</div>\n<div onclick=&quot;getViewpoint()&quot;>Get viewpoint</div>\n<div>Close Menu</div>\n</div></div>\n\n\n</body>\n</html>\n\"\n        width=\"100%\"\n        height=\"400\"\n        style=\"border: 0;\">\n</iframe>\n",
      "text/plain": [
       "Graphics3d Object"
      ]
     },
     "execution_count": 30,
     "metadata": {
     },
     "output_type": "execute_result"
    },
    {
     "data": {
      "text/html": [
       "<html>\\[\\newcommand{\\Bold}[1]{\\mathbf{#1}}\\mathrm{None}\\]</html>"
      ],
      "text/latex": [
       "$$\\newcommand{\\Bold}[1]{\\mathbf{#1}}\\mathrm{None}$$"
      ],
      "text/plain": [
       "None"
      ]
     },
     "execution_count": 30,
     "metadata": {
     },
     "output_type": "execute_result"
    }
   ],
   "source": [
    "# call the function\n",
    "p2=plot_parallelopiped(a,b,c)\n",
    "show(p2,figsize=4)"
   ]
  },
  {
   "cell_type": "code",
   "execution_count": 31,
   "metadata": {
    "collapsed": false
   },
   "outputs": [
    {
     "data": {
      "text/html": [
       "<html>\\[\\newcommand{\\Bold}[1]{\\mathbf{#1}}26\\]</html>"
      ],
      "text/latex": [
       "$$\\newcommand{\\Bold}[1]{\\mathbf{#1}}26$$"
      ],
      "text/plain": [
       "26"
      ]
     },
     "execution_count": 31,
     "metadata": {
     },
     "output_type": "execute_result"
    }
   ],
   "source": [
    "# We can calculate the volume of the parallelo piped\n",
    "vol = abs(c.dot_product(a.cross_product(b)))\n",
    "show(vol)"
   ]
  },
  {
   "cell_type": "markdown",
   "metadata": {
    "collapsed": false
   },
   "source": [
    "**Defining a matrices in SageMath**"
   ]
  },
  {
   "cell_type": "code",
   "execution_count": 32,
   "metadata": {
    "collapsed": false
   },
   "outputs": [
   ],
   "source": [
    "#matrix? we can see syntax and examples"
   ]
  },
  {
   "cell_type": "code",
   "execution_count": 33,
   "metadata": {
    "collapsed": false
   },
   "outputs": [
    {
     "data": {
      "text/html": [
       "<html>\\[\\newcommand{\\Bold}[1]{\\mathbf{#1}}\\left(\\begin{array}{rrrr}\n",
       "1 & 2 & 3 & 4 \\\\\n",
       "4 & 3 & 2 & 1 \\\\\n",
       "6 & 7 & 8 & 9 \\\\\n",
       "9 & 8 & 7 & 6\n",
       "\\end{array}\\right)\\]</html>"
      ],
      "text/latex": [
       "$$\\newcommand{\\Bold}[1]{\\mathbf{#1}}\\left(\\begin{array}{rrrr}\n",
       "1 & 2 & 3 & 4 \\\\\n",
       "4 & 3 & 2 & 1 \\\\\n",
       "6 & 7 & 8 & 9 \\\\\n",
       "9 & 8 & 7 & 6\n",
       "\\end{array}\\right)$$"
      ],
      "text/plain": [
       "[1 2 3 4]\n",
       "[4 3 2 1]\n",
       "[6 7 8 9]\n",
       "[9 8 7 6]"
      ]
     },
     "execution_count": 33,
     "metadata": {
     },
     "output_type": "execute_result"
    }
   ],
   "source": [
    "# Decare 4x4 matrix\n",
    "A = matrix(QQ,[[1,2,3,4],[4,3,2,1],[6,7,8,9],[9,8,7,6]])\n",
    "show(A)"
   ]
  },
  {
   "cell_type": "code",
   "execution_count": 34,
   "metadata": {
    "collapsed": false
   },
   "outputs": [
    {
     "data": {
      "text/plain": [
       "[1 4 6 9]\n",
       "[2 3 7 8]\n",
       "[3 2 8 7]\n",
       "[4 1 9 6]"
      ]
     },
     "execution_count": 34,
     "metadata": {
     },
     "output_type": "execute_result"
    }
   ],
   "source": [
    "# Transpose\n",
    "A.transpose()"
   ]
  },
  {
   "cell_type": "code",
   "execution_count": 35,
   "metadata": {
    "collapsed": false
   },
   "outputs": [
    {
     "data": {
      "text/plain": [
       "0"
      ]
     },
     "execution_count": 35,
     "metadata": {
     },
     "output_type": "execute_result"
    }
   ],
   "source": [
    "# Determinant\n",
    "A.det()"
   ]
  },
  {
   "cell_type": "code",
   "execution_count": 36,
   "metadata": {
    "collapsed": false
   },
   "outputs": [
    {
     "data": {
      "text/plain": [
       "[ 63  61  59  57]\n",
       "[ 37  39  41  43]\n",
       "[163 161 159 157]\n",
       "[137 139 141 143]"
      ]
     },
     "execution_count": 36,
     "metadata": {
     },
     "output_type": "execute_result"
    }
   ],
   "source": [
    "# Square of  a amtrix\n",
    "A*A"
   ]
  },
  {
   "cell_type": "code",
   "execution_count": 38,
   "metadata": {
    "collapsed": false
   },
   "outputs": [
    {
     "data": {
      "text/html": [
       "<html>\\[\\newcommand{\\Bold}[1]{\\mathbf{#1}}\\left(\\begin{array}{rrrrr}\n",
       "11 & -2 & 19 & 9 & -10 \\\\\n",
       "-10 & -3 & 1 & 12 & -5 \\\\\n",
       "13 & 8 & 2 & -7 & 6 \\\\\n",
       "-9 & -4 & 1 & 7 & 19\n",
       "\\end{array}\\right)\\]</html>"
      ],
      "text/latex": [
       "$$\\newcommand{\\Bold}[1]{\\mathbf{#1}}\\left(\\begin{array}{rrrrr}\n",
       "11 & -2 & 19 & 9 & -10 \\\\\n",
       "-10 & -3 & 1 & 12 & -5 \\\\\n",
       "13 & 8 & 2 & -7 & 6 \\\\\n",
       "-9 & -4 & 1 & 7 & 19\n",
       "\\end{array}\\right)$$"
      ],
      "text/plain": [
       "[ 11  -2  19   9 -10]\n",
       "[-10  -3   1  12  -5]\n",
       "[ 13   8   2  -7   6]\n",
       "[ -9  -4   1   7  19]"
      ]
     },
     "execution_count": 38,
     "metadata": {
     },
     "output_type": "execute_result"
    }
   ],
   "source": [
    "# Generate random matrix\n",
    "m=random_matrix(ZZ,4,5,x=-10,y=20)\n",
    "show(m)"
   ]
  },
  {
   "cell_type": "code",
   "execution_count": 39,
   "metadata": {
    "collapsed": false
   },
   "outputs": [
    {
     "data": {
      "text/plain": [
       "((2, 9, 1), (1, 1, 0), (4, -1, 3))"
      ]
     },
     "execution_count": 39,
     "metadata": {
     },
     "output_type": "execute_result"
    }
   ],
   "source": [
    "a,b,c"
   ]
  },
  {
   "cell_type": "code",
   "execution_count": 40,
   "metadata": {
    "collapsed": false
   },
   "outputs": [
    {
     "data": {
      "text/html": [
       "<html>\\[\\newcommand{\\Bold}[1]{\\mathbf{#1}}\\left(\\begin{array}{rrr}\n",
       "2 & 1 & 4 \\\\\n",
       "9 & 1 & -1 \\\\\n",
       "1 & 0 & 3\n",
       "\\end{array}\\right)\\]</html>"
      ],
      "text/latex": [
       "$$\\newcommand{\\Bold}[1]{\\mathbf{#1}}\\left(\\begin{array}{rrr}\n",
       "2 & 1 & 4 \\\\\n",
       "9 & 1 & -1 \\\\\n",
       "1 & 0 & 3\n",
       "\\end{array}\\right)$$"
      ],
      "text/plain": [
       "[ 2  1  4]\n",
       "[ 9  1 -1]\n",
       "[ 1  0  3]"
      ]
     },
     "execution_count": 40,
     "metadata": {
     },
     "output_type": "execute_result"
    }
   ],
   "source": [
    "# We can define a matrix by using vectors\n",
    "B = column_matrix([a,b,c])\n",
    "show(B)"
   ]
  },
  {
   "cell_type": "code",
   "execution_count": 41,
   "metadata": {
    "collapsed": false
   },
   "outputs": [
    {
     "data": {
      "text/plain": [
       "[(1, 4, 6, 9), (2, 3, 7, 8), (3, 2, 8, 7), (4, 1, 9, 6)]"
      ]
     },
     "execution_count": 41,
     "metadata": {
     },
     "output_type": "execute_result"
    }
   ],
   "source": [
    "# Extract the columns of a matrix\n",
    "a = A.columns()\n",
    "a"
   ]
  },
  {
   "cell_type": "code",
   "execution_count": 43,
   "metadata": {
    "collapsed": false
   },
   "outputs": [
    {
     "data": {
      "text/plain": [
       "(2, 3, 7, 8)"
      ]
     },
     "execution_count": 43,
     "metadata": {
     },
     "output_type": "execute_result"
    }
   ],
   "source": [
    "# Extract the index\n",
    "a[1]"
   ]
  },
  {
   "cell_type": "code",
   "execution_count": 44,
   "metadata": {
    "collapsed": false
   },
   "outputs": [
    {
     "data": {
      "text/plain": [
       "(4, 4)"
      ]
     },
     "execution_count": 44,
     "metadata": {
     },
     "output_type": "execute_result"
    }
   ],
   "source": [
    "# Dimension of a matrix\n",
    "A.dimensions()"
   ]
  },
  {
   "cell_type": "code",
   "execution_count": 45,
   "metadata": {
    "collapsed": false
   },
   "outputs": [
    {
     "data": {
      "text/plain": [
       "[4 3 2]\n",
       "[6 7 8]"
      ]
     },
     "execution_count": 45,
     "metadata": {
     },
     "output_type": "execute_result"
    }
   ],
   "source": [
    "# Slice or dimension of a matrix\n",
    "A.submatrix(1,0,2,3)"
   ]
  },
  {
   "cell_type": "code",
   "execution_count": 46,
   "metadata": {
    "collapsed": false
   },
   "outputs": [
    {
     "data": {
      "text/plain": [
       "[3 2]\n",
       "[7 8]"
      ]
     },
     "execution_count": 46,
     "metadata": {
     },
     "output_type": "execute_result"
    }
   ],
   "source": [
    "# Print 1st row 2nd column 2 ros and 2 coumn\n",
    "A.submatrix(1,1,2,2)"
   ]
  },
  {
   "cell_type": "code",
   "execution_count": 0,
   "metadata": {
    "collapsed": false
   },
   "outputs": [
   ],
   "source": [
   ]
  }
 ],
 "metadata": {
  "kernelspec": {
   "display_name": "SageMath 9.5",
   "language": "sagemath",
   "metadata": {
    "cocalc": {
     "description": "Open-source mathematical software system",
     "priority": 10,
     "url": "https://www.sagemath.org/"
    }
   },
   "name": "sage-9.5",
   "resource_dir": "/ext/jupyter/kernels/sage-9.5"
  },
  "language_info": {
   "codemirror_mode": {
    "name": "ipython",
    "version": 3
   },
   "file_extension": ".py",
   "mimetype": "text/x-python",
   "name": "python",
   "nbconvert_exporter": "python",
   "pygments_lexer": "ipython3",
   "version": "3.9.9"
  }
 },
 "nbformat": 4,
 "nbformat_minor": 4
}