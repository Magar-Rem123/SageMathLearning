{
 "cells": [
  {
   "cell_type": "markdown",
   "metadata": {
    "collapsed": false
   },
   "source": [
    "**Project:-2(Solving Equations in SageMath)**\n",
    "\n"
   ]
  },
  {
   "cell_type": "markdown",
   "metadata": {
    "collapsed": false
   },
   "source": [
    "**\\*\\*solve\\(\\) function**\n",
    "\n",
    "\\*\\*syntax: solve\\(function==0,_args,kwds\\)\\*\\*_\n",
    "\n",
    "**This function algebraically solve an equations or system of equations (over complex variable) for given variables.**\n",
    "\n",
    "**Inequalites and system of inequatlites are also supported.**\n",
    "\n"
   ]
  },
  {
   "cell_type": "markdown",
   "metadata": {
    "collapsed": false
   },
   "source": [
    "**1. Example**"
   ]
  },
  {
   "cell_type": "markdown",
   "metadata": {
    "collapsed": false
   },
   "source": [
    "**Let us define an equation**"
   ]
  },
  {
   "cell_type": "code",
   "execution_count": 1,
   "metadata": {
    "collapsed": false
   },
   "outputs": [
    {
     "data": {
      "text/html": [
       "<html>\\[\\newcommand{\\Bold}[1]{\\mathbf{#1}}x^{2} - x + 2\\]</html>"
      ],
      "text/latex": [
       "$$\\newcommand{\\Bold}[1]{\\mathbf{#1}}x^{2} - x + 2$$"
      ],
      "text/plain": [
       "x^2 - x + 2"
      ]
     },
     "execution_count": 1,
     "metadata": {
     },
     "output_type": "execute_result"
    }
   ],
   "source": [
    "f(x) = x^2 - x +2\n",
    "# See our equaion\n",
    "show(f(x))"
   ]
  },
  {
   "cell_type": "markdown",
   "metadata": {
    "collapsed": false
   },
   "source": [
    "**See the equation in the latex output**$$f(x) = x^2 -x +2$$\n",
    "\n"
   ]
  },
  {
   "cell_type": "markdown",
   "metadata": {
    "collapsed": false
   },
   "source": [
    "**See the value of function at $x = -\\pi$.**"
   ]
  },
  {
   "cell_type": "code",
   "execution_count": 2,
   "metadata": {
    "collapsed": false
   },
   "outputs": [
    {
     "data": {
      "text/plain": [
       "pi + pi^2 + 2"
      ]
     },
     "execution_count": 2,
     "metadata": {
     },
     "output_type": "execute_result"
    }
   ],
   "source": [
    "# Value of functin at x = -pi\n",
    "f(-pi)"
   ]
  },
  {
   "cell_type": "markdown",
   "metadata": {
    "collapsed": false
   },
   "source": [
    "**See in the numerical form.**"
   ]
  },
  {
   "cell_type": "code",
   "execution_count": 3,
   "metadata": {
    "collapsed": false
   },
   "outputs": [
    {
     "data": {
      "text/plain": [
       "15.0111970546792"
      ]
     },
     "execution_count": 3,
     "metadata": {
     },
     "output_type": "execute_result"
    }
   ],
   "source": [
    "f(-pi).n()"
   ]
  },
  {
   "cell_type": "markdown",
   "metadata": {
    "collapsed": false
   },
   "source": [
    "**Solve the equation by using solve() function with respect to varaiable.**"
   ]
  },
  {
   "cell_type": "code",
   "execution_count": 5,
   "metadata": {
    "collapsed": false
   },
   "outputs": [
    {
     "data": {
      "text/plain": [
       "[x == -2, x == 1]"
      ]
     },
     "execution_count": 5,
     "metadata": {
     },
     "output_type": "execute_result"
    }
   ],
   "source": [
    "var('x')\n",
    "f(x) = x^3-3*x+2\n",
    "# solve the equaion\n",
    "solve(f(x)==0,x)"
   ]
  },
  {
   "cell_type": "markdown",
   "metadata": {
    "collapsed": false
   },
   "source": [
    "**See the solution in the dictionary form.**"
   ]
  },
  {
   "cell_type": "code",
   "execution_count": 7,
   "metadata": {
    "collapsed": false
   },
   "outputs": [
    {
     "data": {
      "text/plain": [
       "[{x: -2}, {x: 1}]"
      ]
     },
     "execution_count": 7,
     "metadata": {
     },
     "output_type": "execute_result"
    }
   ],
   "source": [
    "solve(f(x)==0,x,solution_dict=True)"
   ]
  },
  {
   "cell_type": "markdown",
   "metadata": {
    "collapsed": false
   },
   "source": [
    "**Check the type of the equation.**"
   ]
  },
  {
   "cell_type": "code",
   "execution_count": 8,
   "metadata": {
    "collapsed": false
   },
   "outputs": [
    {
     "name": "stdout",
     "output_type": "stream",
     "text": [
      "<class 'sage.symbolic.expression.Expression'>\n"
     ]
    }
   ],
   "source": [
    "print(type(f(x)))"
   ]
  },
  {
   "cell_type": "markdown",
   "metadata": {
    "collapsed": false
   },
   "source": [
    "**See the coefficients of and equation.**"
   ]
  },
  {
   "cell_type": "code",
   "execution_count": 9,
   "metadata": {
    "collapsed": false
   },
   "outputs": [
    {
     "data": {
      "text/plain": [
       "[[2, 0], [-3, 1], [1, 3]]"
      ]
     },
     "execution_count": 9,
     "metadata": {
     },
     "output_type": "execute_result"
    }
   ],
   "source": [
    "f(x).coefficients()"
   ]
  },
  {
   "cell_type": "markdown",
   "metadata": {
    "collapsed": false
   },
   "source": [
    "**Find the root of an equation.**"
   ]
  },
  {
   "cell_type": "code",
   "execution_count": 10,
   "metadata": {
    "collapsed": false
   },
   "outputs": [
    {
     "data": {
      "text/plain": [
       "[(-2, 1), (1, 2)]"
      ]
     },
     "execution_count": 10,
     "metadata": {
     },
     "output_type": "execute_result"
    }
   ],
   "source": [
    "f(x).roots()"
   ]
  },
  {
   "cell_type": "markdown",
   "metadata": {
    "collapsed": false
   },
   "source": [
    "**Solving Quadratic Equation.**"
   ]
  },
  {
   "cell_type": "code",
   "execution_count": 11,
   "metadata": {
    "collapsed": false
   },
   "outputs": [
    {
     "data": {
      "text/plain": [
       "[x == -1/2*(b + sqrt(b^2 - 4*a*c))/a, x == -1/2*(b - sqrt(b^2 - 4*a*c))/a]"
      ]
     },
     "execution_count": 11,
     "metadata": {
     },
     "output_type": "execute_result"
    }
   ],
   "source": [
    "#First declare the variables\n",
    "var('a,b,c')\n",
    "# Define a quadratic function\n",
    "f(x) = a*x^2+b*x+c\n",
    "# Sove this equation\n",
    "solve(f(x)==0,x)"
   ]
  },
  {
   "cell_type": "markdown",
   "metadata": {
    "collapsed": false
   },
   "source": [
    "**See the formula to find the root of quadratic equation.**"
   ]
  },
  {
   "cell_type": "code",
   "execution_count": 12,
   "metadata": {
    "collapsed": false
   },
   "outputs": [
    {
     "data": {
      "text/html": [
       "<html>\\[\\newcommand{\\Bold}[1]{\\mathbf{#1}}\\left[\\left\\{x : -\\frac{b + \\sqrt{b^{2} - 4 \\, a c}}{2 \\, a}\\right\\}, \\left\\{x : -\\frac{b - \\sqrt{b^{2} - 4 \\, a c}}{2 \\, a}\\right\\}\\right]\\]</html>"
      ],
      "text/latex": [
       "$$\\newcommand{\\Bold}[1]{\\mathbf{#1}}\\left[\\left\\{x : -\\frac{b + \\sqrt{b^{2} - 4 \\, a c}}{2 \\, a}\\right\\}, \\left\\{x : -\\frac{b - \\sqrt{b^{2} - 4 \\, a c}}{2 \\, a}\\right\\}\\right]$$"
      ],
      "text/plain": [
       "[{x: -1/2*(b + sqrt(b^2 - 4*a*c))/a}, {x: -1/2*(b - sqrt(b^2 - 4*a*c))/a}]"
      ]
     },
     "execution_count": 12,
     "metadata": {
     },
     "output_type": "execute_result"
    }
   ],
   "source": [
    "sol = solve(a*x^2+b*x+c==0,x,solution_dict = True)\n",
    "show(sol)"
   ]
  },
  {
   "cell_type": "markdown",
   "metadata": {
    "collapsed": false
   },
   "source": [
    "**3. Soving systiem of linear equation.**"
   ]
  },
  {
   "cell_type": "code",
   "execution_count": 14,
   "metadata": {
    "collapsed": false
   },
   "outputs": [
    {
     "data": {
      "text/plain": [
       "[[x == 5, y == 1]]"
      ]
     },
     "execution_count": 14,
     "metadata": {
     },
     "output_type": "execute_result"
    }
   ],
   "source": [
    "var('x,y')\n",
    "solve([x+y==6,x-y==4],[x,y])"
   ]
  },
  {
   "cell_type": "markdown",
   "metadata": {
    "collapsed": false
   },
   "source": [
    "**See the solution in the dictionary form.**"
   ]
  },
  {
   "cell_type": "code",
   "execution_count": 15,
   "metadata": {
    "collapsed": false
   },
   "outputs": [
    {
     "data": {
      "text/plain": [
       "[{x: 5, y: 1}]"
      ]
     },
     "execution_count": 15,
     "metadata": {
     },
     "output_type": "execute_result"
    }
   ],
   "source": [
    "var('x,y')\n",
    "solve([x+y==6,x-y==4],[x,y],solution_dict = True)"
   ]
  },
  {
   "cell_type": "markdown",
   "metadata": {
    "collapsed": false
   },
   "source": [
    "**For the infinitely many solution.**"
   ]
  },
  {
   "cell_type": "code",
   "execution_count": 16,
   "metadata": {
    "collapsed": false
   },
   "outputs": [
    {
     "data": {
      "text/plain": [
       "[{x: -r1 + 5, y: r1}]"
      ]
     },
     "execution_count": 16,
     "metadata": {
     },
     "output_type": "execute_result"
    }
   ],
   "source": [
    "solve([x+y==5],x,y,solution_dict = True)"
   ]
  },
  {
   "cell_type": "markdown",
   "metadata": {
    "collapsed": false
   },
   "source": [
    "**4. Solving Non linear equation.**"
   ]
  },
  {
   "cell_type": "code",
   "execution_count": 17,
   "metadata": {
    "collapsed": false
   },
   "outputs": [
    {
     "data": {
      "text/plain": [
       "[{x: -sqrt(sqrt(3) + 2), y: sqrt(sqrt(3) + 2)*(sqrt(3) - 2)},\n",
       " {x: sqrt(sqrt(3) + 2), y: -sqrt(sqrt(3) + 2)*(sqrt(3) - 2)},\n",
       " {x: -sqrt(-sqrt(3) + 2), y: -1/2*sqrt(3)*sqrt(2) - 1/2*sqrt(2)},\n",
       " {x: sqrt(-sqrt(3) + 2), y: 1/2*sqrt(3)*sqrt(2) + 1/2*sqrt(2)}]"
      ]
     },
     "execution_count": 17,
     "metadata": {
     },
     "output_type": "execute_result"
    }
   ],
   "source": [
    "solve([x^2+y^2==4,x*y ==1],[x,y],solution_dict = True)"
   ]
  },
  {
   "cell_type": "markdown",
   "metadata": {
    "collapsed": false
   },
   "source": [
    "**See the solution in actural form.**"
   ]
  },
  {
   "cell_type": "code",
   "execution_count": 20,
   "metadata": {
    "collapsed": false
   },
   "outputs": [
    {
     "data": {
      "text/html": [
       "<html>\\[\\newcommand{\\Bold}[1]{\\mathbf{#1}}\\left[\\left\\{x : -\\sqrt{\\sqrt{3} + 2}, y : \\sqrt{\\sqrt{3} + 2} {\\left(\\sqrt{3} - 2\\right)}\\right\\}, \\left\\{x : \\sqrt{\\sqrt{3} + 2}, y : -\\sqrt{\\sqrt{3} + 2} {\\left(\\sqrt{3} - 2\\right)}\\right\\}, \\left\\{x : -\\sqrt{-\\sqrt{3} + 2}, y : -\\frac{1}{2} \\, \\sqrt{3} \\sqrt{2} - \\frac{1}{2} \\, \\sqrt{2}\\right\\}, \\left\\{x : \\sqrt{-\\sqrt{3} + 2}, y : \\frac{1}{2} \\, \\sqrt{3} \\sqrt{2} + \\frac{1}{2} \\, \\sqrt{2}\\right\\}\\right]\\]</html>"
      ],
      "text/latex": [
       "$$\\newcommand{\\Bold}[1]{\\mathbf{#1}}\\left[\\left\\{x : -\\sqrt{\\sqrt{3} + 2}, y : \\sqrt{\\sqrt{3} + 2} {\\left(\\sqrt{3} - 2\\right)}\\right\\}, \\left\\{x : \\sqrt{\\sqrt{3} + 2}, y : -\\sqrt{\\sqrt{3} + 2} {\\left(\\sqrt{3} - 2\\right)}\\right\\}, \\left\\{x : -\\sqrt{-\\sqrt{3} + 2}, y : -\\frac{1}{2} \\, \\sqrt{3} \\sqrt{2} - \\frac{1}{2} \\, \\sqrt{2}\\right\\}, \\left\\{x : \\sqrt{-\\sqrt{3} + 2}, y : \\frac{1}{2} \\, \\sqrt{3} \\sqrt{2} + \\frac{1}{2} \\, \\sqrt{2}\\right\\}\\right]$$"
      ],
      "text/plain": [
       "[{x: -sqrt(sqrt(3) + 2), y: sqrt(sqrt(3) + 2)*(sqrt(3) - 2)},\n",
       " {x: sqrt(sqrt(3) + 2), y: -sqrt(sqrt(3) + 2)*(sqrt(3) - 2)},\n",
       " {x: -sqrt(-sqrt(3) + 2), y: -1/2*sqrt(3)*sqrt(2) - 1/2*sqrt(2)},\n",
       " {x: sqrt(-sqrt(3) + 2), y: 1/2*sqrt(3)*sqrt(2) + 1/2*sqrt(2)}]"
      ]
     },
     "execution_count": 20,
     "metadata": {
     },
     "output_type": "execute_result"
    }
   ],
   "source": [
    "sol =solve([x^2+y^2==4,x*y ==1],[x,y],solution_dict = True)\n",
    "show(sol)"
   ]
  },
  {
   "cell_type": "markdown",
   "metadata": {
    "collapsed": false
   },
   "source": [
    "**See the first index solution.**"
   ]
  },
  {
   "cell_type": "code",
   "execution_count": 21,
   "metadata": {
    "collapsed": false
   },
   "outputs": [
    {
     "data": {
      "text/plain": [
       "{x: -sqrt(sqrt(3) + 2), y: sqrt(sqrt(3) + 2)*(sqrt(3) - 2)}"
      ]
     },
     "execution_count": 21,
     "metadata": {
     },
     "output_type": "execute_result"
    }
   ],
   "source": [
    "sol[0]"
   ]
  },
  {
   "cell_type": "markdown",
   "metadata": {
    "collapsed": false
   },
   "source": [
    "**Apply the loop in the solutin**"
   ]
  },
  {
   "cell_type": "code",
   "execution_count": 23,
   "metadata": {
    "collapsed": false
   },
   "outputs": [
    {
     "name": "stdout",
     "output_type": "stream",
     "text": [
      "{x: -sqrt(sqrt(3) + 2), y: sqrt(sqrt(3) + 2)*(sqrt(3) - 2)}\n",
      "{x: sqrt(sqrt(3) + 2), y: -sqrt(sqrt(3) + 2)*(sqrt(3) - 2)}\n",
      "{x: -sqrt(-sqrt(3) + 2), y: -1/2*sqrt(3)*sqrt(2) - 1/2*sqrt(2)}\n",
      "{x: sqrt(-sqrt(3) + 2), y: 1/2*sqrt(3)*sqrt(2) + 1/2*sqrt(2)}\n"
     ]
    }
   ],
   "source": [
    "sol = solve([x^2+y^2==4,x*y ==1],[x,y],solution_dict = True)\n",
    "for sl in sol:\n",
    "    print(sl)"
   ]
  },
  {
   "cell_type": "markdown",
   "metadata": {
    "collapsed": false
   },
   "source": [
    "**5. Solving Inequalities**"
   ]
  },
  {
   "cell_type": "code",
   "execution_count": 24,
   "metadata": {
    "collapsed": false
   },
   "outputs": [
    {
     "data": {
      "text/plain": [
       "[[x < -sqrt(19) + 4], [x > sqrt(19) + 4]]"
      ]
     },
     "execution_count": 24,
     "metadata": {
     },
     "output_type": "execute_result"
    }
   ],
   "source": [
    "var('x,y')\n",
    "solve(x^2-8*x+2>5,x)"
   ]
  },
  {
   "cell_type": "markdown",
   "metadata": {
    "collapsed": false
   },
   "source": [
    "**Solving system of inequalites.**"
   ]
  },
  {
   "cell_type": "code",
   "execution_count": 26,
   "metadata": {
    "collapsed": false
   },
   "outputs": [
    {
     "data": {
      "text/html": [
       "<html>\\[\\newcommand{\\Bold}[1]{\\mathbf{#1}}\\left[\\left\\{-x y + 3 : 0, -x^{3} - 3 \\, x^{2} - 2 \\, x + 3 : 0\\right\\}, \\left\\{-x y + 3 : 0, x^{3} + 3 \\, x^{2} + 2 \\, x - 3 : 0\\right\\}, \\left\\{x y - 3 : 0, -x^{3} - 3 \\, x^{2} - 2 \\, x + 3 : 0\\right\\}, \\left\\{x y - 3 : 0, x^{3} + 3 \\, x^{2} + 2 \\, x - 3 : 0\\right\\}\\right]\\]</html>"
      ],
      "text/latex": [
       "$$\\newcommand{\\Bold}[1]{\\mathbf{#1}}\\left[\\left\\{-x y + 3 : 0, -x^{3} - 3 \\, x^{2} - 2 \\, x + 3 : 0\\right\\}, \\left\\{-x y + 3 : 0, x^{3} + 3 \\, x^{2} + 2 \\, x - 3 : 0\\right\\}, \\left\\{x y - 3 : 0, -x^{3} - 3 \\, x^{2} - 2 \\, x + 3 : 0\\right\\}, \\left\\{x y - 3 : 0, x^{3} + 3 \\, x^{2} + 2 \\, x - 3 : 0\\right\\}\\right]$$"
      ],
      "text/plain": [
       "[{-x*y + 3: 0, -x^3 - 3*x^2 - 2*x + 3: 0},\n",
       " {-x*y + 3: 0, x^3 + 3*x^2 + 2*x - 3: 0},\n",
       " {x*y - 3: 0, -x^3 - 3*x^2 - 2*x + 3: 0},\n",
       " {x*y - 3: 0, x^3 + 3*x^2 + 2*x - 3: 0}]"
      ]
     },
     "execution_count": 26,
     "metadata": {
     },
     "output_type": "execute_result"
    }
   ],
   "source": [
    "soln =solve([x^3+3*x^2+2*x+5<=8,x*y<=3],[x,y],solution_dict = True)\n",
    "show(soln)"
   ]
  },
  {
   "cell_type": "markdown",
   "metadata": {
    "collapsed": false
   },
   "source": [
    "**See the first index.**"
   ]
  },
  {
   "cell_type": "code",
   "execution_count": 28,
   "metadata": {
    "collapsed": false
   },
   "outputs": [
    {
     "data": {
      "text/html": [
       "<html>\\[\\newcommand{\\Bold}[1]{\\mathbf{#1}}\\left\\{-x y + 3 : 0, -x^{3} - 3 \\, x^{2} - 2 \\, x + 3 : 0\\right\\}\\]</html>"
      ],
      "text/latex": [
       "$$\\newcommand{\\Bold}[1]{\\mathbf{#1}}\\left\\{-x y + 3 : 0, -x^{3} - 3 \\, x^{2} - 2 \\, x + 3 : 0\\right\\}$$"
      ],
      "text/plain": [
       "{-x*y + 3: 0, -x^3 - 3*x^2 - 2*x + 3: 0}"
      ]
     },
     "execution_count": 28,
     "metadata": {
     },
     "output_type": "execute_result"
    }
   ],
   "source": [
    "show(soln[0])"
   ]
  },
  {
   "cell_type": "code",
   "execution_count": 0,
   "metadata": {
    "collapsed": false
   },
   "outputs": [
   ],
   "source": [
   ]
  }
 ],
 "metadata": {
  "kernelspec": {
   "display_name": "SageMath 9.5",
   "language": "sagemath",
   "metadata": {
    "cocalc": {
     "description": "Open-source mathematical software system",
     "priority": 10,
     "url": "https://www.sagemath.org/"
    }
   },
   "name": "sage-9.5",
   "resource_dir": "/ext/jupyter/kernels/sage-9.5"
  },
  "language_info": {
   "codemirror_mode": {
    "name": "ipython",
    "version": 3
   },
   "file_extension": ".py",
   "mimetype": "text/x-python",
   "name": "python",
   "nbconvert_exporter": "python",
   "pygments_lexer": "ipython3",
   "version": "3.9.9"
  }
 },
 "nbformat": 4,
 "nbformat_minor": 4
}